{
 "cells": [
  {
   "cell_type": "markdown",
   "metadata": {},
   "source": [
    "# Homework 4 - Scalability\n",
    "\n",
    "## CS109B / Stats 121 / AC209B / CSCI E109B\n",
    "\n",
    "CS109b Staff\n",
    "\n",
    "March 8, 2018"
   ]
  },
  {
   "cell_type": "markdown",
   "metadata": {},
   "source": [
    " ### Enter which version of the course you are enrolled in: "
   ]
  },
  {
   "cell_type": "markdown",
   "metadata": {},
   "source": [
    " <span style=\"color:blue\">\n",
    "**ANSWER**\n",
    "<br/>\n",
    "I am enrolled in AC209b\n",
    " </span>"
   ]
  },
  {
   "cell_type": "markdown",
   "metadata": {},
   "source": [
    "The purpose of this homework is get familiar with scalability and parallelization. \n",
    "\n",
    "There are three items to submit:\n",
    "\n",
    "1. Via Canvas, this populated Jupyter notebook (.ipynb) file\n",
    "2. Via Canvas, this populated notebook converted to PDF (for inline grading notes)\n",
    "3. Anonymously share your performance results via this Google form [https://goo.gl/forms/EVrnxj2pzndZvNX22](https://goo.gl/forms/EVrnxj2pzndZvNX22)"
   ]
  },
  {
   "cell_type": "markdown",
   "metadata": {},
   "source": [
    "## Part 1 - Theory\n",
    "\n",
    "(a) 30% of your application can be parallelized. It takes 56 seconds to run on your single processor laptop, but only 42 seconds to run on your friend's beefy desktop. How many processors does your friend's machine have? Show your work."
   ]
  },
  {
   "cell_type": "markdown",
   "metadata": {},
   "source": [
    "<span style=\"color:blue\">\n",
    "**ANSWER**\n",
    "<br/>\n",
    "Suppose unit work takes t second on the single processor laptop, and t' second on the multi-processor laptop, then\n",
    "$$0.7t + 0.3t = 56, \\quad t = 56$$\n",
    "$$0.7t + 0.3t' = 42, \\quad 0.7 * 56 + 0.3t' = 42, \\quad t' = \\frac{28}{3}$$\n",
    "Suppose there are N cores on the multi-processor laptop, then\n",
    "$$3t = 3Nt'$$\n",
    "$$N = \\frac{t}{t'}= \\frac{56}{\\frac{28}{3}} = 6$$\n",
    "<br/>\n",
    "<br/>\n",
    "The same result can be achived by Amdahl's law:\n",
    "$$S_{latency} = \\frac{1}{1-p+\\frac{p}{N}}$$\n",
    "Plug in the values for each term, we have\n",
    "$$\\frac{56}{42} = \\frac{1}{1-0.3+\\frac{0.3}{N}}$$\n",
    "Therefore, \n",
    "$$N = \\frac{0.3}{\\frac{42}{56} - 0.7} = 6$$\n",
    "</span>"
   ]
  },
  {
   "cell_type": "markdown",
   "metadata": {},
   "source": [
    "(b) The NVIDIA Telsa K80 in your JupyterHub instances has 4992 cores ([source](http://www.nvidia.com/object/tesla-k80.html)). You have to perform a very large matrix multiplication. Explain what factors would prevent the operation from occurring about 5000 times faster than running the same operation on a single CPU machine. What are the bottlenecks? "
   ]
  },
  {
   "cell_type": "markdown",
   "metadata": {},
   "source": [
    "<span style=\"color:blue\">\n",
    "**ANSWER**\n",
    "<br/>\n",
    "Factors preventing the operation from complete parallization: \n",
    "<br/>\n",
    "1) Amdahl's law: $$S_{latency} = \\frac{1}{1-p+\\frac{p}{N}}$$ \n",
    "For $S_{latency} = N$, we need $p = 1$, which is 100% parallelism in the code. Therefore, little parallelism in the code (E.g. large proportion of the code involves explicit loops which force sequential computation by iteration) is one of the major factors that prevents the operation to be 5000 times faster.\n",
    "<br/>\n",
    "<br/>\n",
    "2) Networking and communication among cores can have large overhead.\n",
    "<br/>\n",
    "<br/>\n",
    "3) Synchronization of parallel tasks taking place at different cores takes waiting time.\n",
    "<br/>\n",
    "<br/>\n",
    "4) There could be other simultaneously running tasks that also occupy some of the computing resources.\n",
    "<br/>\n",
    "<br/>\n",
    "All these factors prevent complete parallelization and makes the bottlenecks for GPU speed up.\n",
    "</span>"
   ]
  },
  {
   "cell_type": "markdown",
   "metadata": {},
   "source": [
    "## Part 2 - Coding\n",
    "\n",
    "In this part, we are going to experiment with having code execute in parallel on multiple cores. Let's first determine how many cores a given machine has.\n",
    "\n",
    "You can run this code on your local machine or on your JupterHub instance. Either is fine.\n",
    "\n",
    "### 2.1 Setup"
   ]
  },
  {
   "cell_type": "code",
   "execution_count": 1,
   "metadata": {
    "collapsed": true
   },
   "outputs": [],
   "source": [
    "from multiprocessing import Process\n",
    "from multiprocessing import cpu_count\n",
    "import numpy as np\n",
    "import time\n",
    "import random"
   ]
  },
  {
   "cell_type": "code",
   "execution_count": 2,
   "metadata": {},
   "outputs": [
    {
     "data": {
      "text/plain": [
       "4"
      ]
     },
     "execution_count": 2,
     "metadata": {},
     "output_type": "execute_result"
    }
   ],
   "source": [
    "cpu_count()"
   ]
  },
  {
   "cell_type": "markdown",
   "metadata": {},
   "source": [
    "Every major operating system (MacOS, Windows, Linux) have a means of monitoring CPU utilization across cores.\n",
    "\n",
    "For MacOS, open `Activity Monitor`, and select CPU usage\n",
    "\n",
    "For MS-Windows, open `Task Manager`, and look at the performance tab\n",
    "\n",
    "For Linux, there is the command line `top` command, or for Ubuntu, use `System Monitor`\n",
    "\n",
    "Verify that the number of cores shown in the appropriate tool corresponds to the number of processors shown above. Leave the CPU monitor window open as it will be used in the subsequent exercises.\n",
    "\n",
    "**Optional advanced**: your machine may have only half the physical cores listed above. For example, on MacOS, if you go to `Apple` / `About This Mac` / `System Report` only four physical cores could be listed instead of the reported eight. This is due to [hyperthreading](https://en.wikipedia.org/wiki/Hyper-threading). See also [Optimizing Cores](https://macperformanceguide.com/Optimizing-Cores.html)\n",
    "\n",
    "How many processors are reported above? Does it match what your OS is saying? "
   ]
  },
  {
   "cell_type": "markdown",
   "metadata": {},
   "source": [
    "<span style=\"color:blue\">\n",
    "**ANSWER**\n",
    "<br/>\n",
    "The above reported `cpu_count()` is 4.\n",
    "<br/>\n",
    "But my MAC system report says a total of 2 cores.\n",
    "</span>"
   ]
  },
  {
   "cell_type": "markdown",
   "metadata": {},
   "source": [
    "### 2.2 Sequential Operations\n",
    "\n",
    "Here we are going to write some Python that executes in parallel across multiple cores. Specifically, we are going to implement prime factorization in regular Python that operates in parallel across multiple cores.\n",
    "\n",
    "First, let's look at the sequential version:"
   ]
  },
  {
   "cell_type": "code",
   "execution_count": 3,
   "metadata": {
    "collapsed": true
   },
   "outputs": [],
   "source": [
    "from sympy import sieve\n",
    "MAX_NUM = 1000000\n",
    "PRIMES = list(sieve.primerange(2,MAX_NUM // 2 + 1))\n",
    "\n",
    "\n",
    "# the number of composite numbers to factor\n",
    "N = 1000"
   ]
  },
  {
   "cell_type": "code",
   "execution_count": 4,
   "metadata": {
    "collapsed": true
   },
   "outputs": [],
   "source": [
    "def calculatePrimeFactors(n):\n",
    "    primfac = []\n",
    "    d = 2\n",
    "    while d*d <= n:\n",
    "        while (n % d) == 0:\n",
    "            primfac.append(d)  # supposing you want multiple factors repeated\n",
    "            n //= d\n",
    "        d += 1 \n",
    "    if n > 1:\n",
    "        primfac.append(n)\n",
    "    return primfac"
   ]
  },
  {
   "cell_type": "code",
   "execution_count": 5,
   "metadata": {},
   "outputs": [
    {
     "name": "stdout",
     "output_type": "stream",
     "text": [
      "Starting number crunching\n",
      "[87803, 417119]\n",
      "[52673, 449693]\n",
      "[160253, 312397]\n",
      "[40427, 486133]\n",
      "[226903, 237379]\n",
      "[121189, 496477]\n",
      "[154247, 220511]\n",
      "[159779, 496631]\n",
      "[92893, 115057]\n",
      "[100271, 469253]\n",
      "Execution Time: 32.15517497062683\n"
     ]
    }
   ],
   "source": [
    "print(\"Starting number crunching\")\n",
    "t0 = time.time()\n",
    "for i in range(N):\n",
    "    rand = random.choice(PRIMES) * random.choice(PRIMES) \n",
    "    factors = calculatePrimeFactors(rand)\n",
    "    if (i % (N//10) == 0):\n",
    "        print(factors)\n",
    "t1 = time.time()\n",
    "totalTime = t1 - t0\n",
    "print(\"Execution Time: {}\".format(totalTime))"
   ]
  },
  {
   "cell_type": "markdown",
   "metadata": {},
   "source": [
    "\n",
    "Now, change the line `N = 100` above so the sequential version takes at least a few seconds to run. Increase by orders of magnitude. You may need a value of `N = 1000` on a recent MacBook for example.\n",
    "\n",
    "What value of N did you choose and how long did it take to run?"
   ]
  },
  {
   "cell_type": "markdown",
   "metadata": {},
   "source": [
    "<span style=\"color:blue\">\n",
    "**ANSWER**\n",
    "<br/>\n",
    "N = 1000, Execution Time: 32.15517497062683\n",
    "</span>"
   ]
  },
  {
   "cell_type": "markdown",
   "metadata": {},
   "source": [
    "### 2.3 Parallel Operations\n",
    "\n",
    "Let's run in parallel across multiple CPUs."
   ]
  },
  {
   "cell_type": "code",
   "execution_count": 6,
   "metadata": {
    "collapsed": true
   },
   "outputs": [],
   "source": [
    "# Now let's run it concurrently\n",
    "def executeProc(nProc):\n",
    "    # Each process is performing a fraction of the load\n",
    "    # so it has less numbers to factor\n",
    "    myN = N // nProc\n",
    "    for i in range(myN):\n",
    "        rand = random.choice(PRIMES) * random.choice(PRIMES) \n",
    "        factors = calculatePrimeFactors(rand)\n",
    "        if (i % (myN // 10 * nProc) == 0):\n",
    "            print(factors)        "
   ]
  },
  {
   "cell_type": "code",
   "execution_count": 7,
   "metadata": {},
   "outputs": [
    {
     "name": "stdout",
     "output_type": "stream",
     "text": [
      "[48859, 162229]\n",
      "[336689, 492377]\n",
      "[388963, 470087]\n",
      "[20023, 62761]\n",
      "[298819, 393361]\n",
      "[29327, 127807]\n",
      "[230149, 362741]\n",
      "[37337, 136777]\n",
      "[174569, 337223]\n",
      "[347051, 425309]\n",
      "nProc = 1, Execution Time: 33.17695498466492\n",
      "[120823, 142619]\n",
      "[390307, 404977]\n",
      "[192193, 254071]\n",
      "[252713, 461957]\n",
      "[85549, 179909]\n",
      "[76907, 188857]\n",
      "[127579, 304831]\n",
      "[146681, 392827]\n",
      "[227651, 270443]\n",
      "[28631, 407321]\n",
      "nProc = 2, Execution Time: 15.587459802627563\n",
      "[10627, 179801]\n",
      "[5039, 192631]\n",
      "[216379, 413759]\n",
      "[369829, 403717]\n",
      "[93251, 139747]\n",
      "[78347, 258743]\n",
      "[138799, 311867]\n",
      "[362177, 403679]\n",
      "[159979, 163327]\n",
      "[220889, 423251]\n",
      "[73039, 182857]\n",
      "[268519, 432659]\n",
      "nProc = 3, Execution Time: 17.332058906555176\n",
      "[73039, 305483]\n",
      "[178069, 212987]\n",
      "[289349, 451523]\n",
      "[330053, 379903]\n",
      "[56003, 349121]\n",
      "[152417, 188459]\n",
      "[122701, 148457]\n",
      "[22381, 468887]\n",
      "[158129, 406207]\n",
      "[306133, 356533]\n",
      "[255019, 390791]\n",
      "[442397, 478171]\n",
      "nProc = 4, Execution Time: 19.120845079421997\n",
      "[23677, 104233]\n",
      "[29581, 382847]\n",
      "[91183, 140381]\n",
      "[330227, 467543]\n",
      "[316703, 448067]\n",
      "[63577, 424559]\n",
      "[226379, 279977]\n",
      "[440807, 445183]\n",
      "[238363, 256939]\n",
      "[334549, 409291]\n",
      "nProc = 5, Execution Time: 18.544858932495117\n",
      "[98621, 381343]\n",
      "[102329, 259157]\n",
      "[125927, 279583]\n",
      "[120767, 468581]\n",
      "[168743, 199417]\n",
      "[337343, 399131]\n",
      "[308849, 442487]\n",
      "[17077, 193373]\n",
      "[87511, 475427]\n",
      "[110879, 316051]\n",
      "[15569, 459233]\n",
      "[190159, 423001]\n",
      "nProc = 6, Execution Time: 18.72682476043701\n",
      "[23143, 109211]\n",
      "[89227, 142547]\n",
      "[92173, 420571]\n",
      "[178093, 440471]\n",
      "[157901, 396353]\n",
      "[157307, 491273]\n",
      "[382583, 466897]\n",
      "[105527, 490453]\n",
      "[146917, 431363]\n",
      "[52121, 208877]\n",
      "[365039, 385223]\n",
      "[278207, 296741]\n",
      "[647, 426551]\n",
      "[314059, 370427]\n",
      "nProc = 7, Execution Time: 18.854474306106567\n",
      "[12841, 466579]\n",
      "[26893, 280451]\n",
      "[34499, 75539]\n",
      "[97789, 395323]\n",
      "[235901, 318919]\n",
      "[290243, 490577]\n",
      "[393749, 455321]\n",
      "[404189, 406807]\n",
      "[235519, 357293]\n",
      "[125219, 230123]\n",
      "[339601, 375451]\n",
      "[184187, 368773]\n",
      "[231859, 275827]\n",
      "[47389, 141761]\n",
      "[2069, 254249]\n",
      "[93097, 155443]\n",
      "nProc = 8, Execution Time: 18.911790132522583\n",
      "[4603, 107251]\n",
      "[101363, 349729]\n",
      "[75539, 267413]\n",
      "[12043, 422321]\n",
      "[59617, 435647]\n",
      "[122471, 195743]\n",
      "[225977, 456697]\n",
      "[298247, 438001]\n",
      "[213133, 233141]\n",
      "[102911, 180701]\n",
      "[46993, 464587]\n",
      "[30091, 203207]\n",
      "[322243, 452923]\n",
      "[243701, 374359]\n",
      "[27539, 461143]\n",
      "[248621, 470087]\n",
      "[123989, 481433]\n",
      "[329723, 461093]\n",
      "nProc = 9, Execution Time: 19.09229588508606\n",
      "[22567, 395449]\n",
      "[54151, 471703]\n",
      "[89767, 155653]\n",
      "[23669, 234979]\n",
      "[87407, 157721]\n",
      "[25933, 298681]\n",
      "[102829, 460571]\n",
      "[258157, 435907]\n",
      "[284507, 477637]\n",
      "[328883, 475441]\n",
      "nProc = 10, Execution Time: 18.528449058532715\n"
     ]
    }
   ],
   "source": [
    "total_times = []\n",
    "nProcs = list(range(1, 11))\n",
    "for nProc in nProcs:\n",
    "    t0 = time.time()\n",
    "    procs = []\n",
    "    # Here we create our processes and kick them off\n",
    "    for i in range(nProc):\n",
    "        proc = Process(target=executeProc, args=(nProc,))\n",
    "        procs.append(proc)\n",
    "        proc.start()\n",
    "    # We use the .join() method in order to wait for\n",
    "    # execution to finish for all of our processes\n",
    "    for proc in procs:\n",
    "        proc.join()\n",
    "    t1 = time.time()\n",
    "    totalTime = t1 - t0\n",
    "    total_times.append(totalTime)\n",
    "    # we print out the total execution time for our 10 procs.\n",
    "    print(\"nProc = {}, Execution Time: {}\".format(nProc, totalTime))"
   ]
  },
  {
   "cell_type": "markdown",
   "metadata": {},
   "source": [
    "Now, change the line `nProc = 2` above so we use more parallel processors. Increase by 1 or 2 at a time. You may need a value of `nProc = 10` on a recent MacBook for example. Modify the code above to keep track of execution time by number of processes.\n",
    "\n",
    "What value of nProc produced the fastest time?  "
   ]
  },
  {
   "cell_type": "code",
   "execution_count": 8,
   "metadata": {},
   "outputs": [
    {
     "name": "stdout",
     "output_type": "stream",
     "text": [
      "The value of nProc producint the fastest time: 2\n",
      "Fastest Execution Time: 15.587459802627563\n"
     ]
    }
   ],
   "source": [
    "min_idx = total_times.index(min(total_times))\n",
    "min_nProc = nProcs[min_idx]\n",
    "print('The value of nProc producint the fastest time: {}'.format(min_nProc))\n",
    "print('Fastest Execution Time: {}'.format(total_times[min_idx]))"
   ]
  },
  {
   "cell_type": "markdown",
   "metadata": {},
   "source": [
    "<span style=\"color:blue\">\n",
    "**ANSWER**\n",
    "<br/>\n",
    "**nProc = 2** produces the fastest execution time. Execution time remains similar for nProc $\\geq$ 2.\n",
    "<br/>\n",
    "Fastest Execution Time = 15.587459802627563\n",
    "<br/>\n",
    "</span>"
   ]
  },
  {
   "cell_type": "markdown",
   "metadata": {},
   "source": [
    "### 2.4 - Plotting and Interpretation\n",
    "\n",
    "(a) Plot the execution time vs number of processes from 1 to nProc + 4 (ie. if nProc == 10 was optimal, plot from 1 to 14 processes). "
   ]
  },
  {
   "cell_type": "code",
   "execution_count": 9,
   "metadata": {},
   "outputs": [
    {
     "data": {
      "image/png": "[encoded data removed]",
      "text/plain": [
       "<Figure size 432x288 with 1 Axes>"
      ]
     },
     "metadata": {},
     "output_type": "display_data"
    }
   ],
   "source": [
    "import matplotlib.pyplot as plt\n",
    "\n",
    "plt.figure(figsize=(6, 4))\n",
    "plt.plot(nProcs[:min_idx+4], total_times[:min_idx+4], 's-')\n",
    "plt.title('Runtime VS. nProc', fontsize=16)\n",
    "plt.xlabel('nProc', fontsize=14)\n",
    "plt.ylabel('Runtime', fontsize=14)\n",
    "plt.show()"
   ]
  },
  {
   "cell_type": "markdown",
   "metadata": {},
   "source": [
    "(b) According to your OS's CPU monitor, were all cores in use?"
   ]
  },
  {
   "cell_type": "markdown",
   "metadata": {},
   "source": [
    "<span style=\"color:blue\">\n",
    "**ANSWER**\n",
    "<br/>\n",
    "According to the OS's CPU monitor, 2 cores were in use when **nProc = 1** and all 4 cores were in use when **nProc $\\geq$ 2**.\n",
    "</span>"
   ]
  },
  {
   "cell_type": "markdown",
   "metadata": {},
   "source": [
    "(c) Why was this optimal based on the number of cores that you have? Why does a higher number of processes not speed things up? How many physical cores do you suspect your machine has vs the number reported by `cpu_count()` in 2.1?"
   ]
  },
  {
   "cell_type": "markdown",
   "metadata": {},
   "source": [
    "<span style=\"color:blue\">\n",
    "**ANSWER**\n",
    "<br/>\n",
    "The minimum runtime takes place when **nProc = 2** and a higher number of processes does not speed things up. This could be seen from the CPU monitor which shows the OS uses 2 cores when nProc = 1 and all 4 cores when nProc $\\geq$ 2. However the OS sees more cores than the actual number of physical cores due to [hyperthreading](https://en.wikipedia.org/wiki/Hyper-threading), which increases the number of independent instructions in the pipeline by allowing concurrent processes scheduling per core. Therefore, the OS uses 2 virtual cores which is actually 1 physical core when nProc = 1 and 4 virtual cores which is actually 2 physical cores when nProc $\\geq$ 2. I think my MAC has **2 physical cores** instead of `cpu_count() = 4`.\n",
    "</span>"
   ]
  },
  {
   "cell_type": "markdown",
   "metadata": {},
   "source": [
    "### Part 3 - AC209 Problem\n",
    "\n",
    "Implement prime factorization using `numpy`.\n",
    "\n",
    "Hint: the book Numpy Cookbook available through Hollis may help you.\n",
    "\n",
    "Use your function and the same number of `N` sequential cases as above. Time the result.\n",
    "\n",
    "* How long did numpy take vs the sequential and parallel versions?\n",
    "* Was your implementation faster than numpy?\n",
    "* Was numpy using multiple cores or not?\n",
    "\n",
    "**For all students:**\n",
    "Don't forget to post your results to  [https://goo.gl/forms/EVrnxj2pzndZvNX22](https://goo.gl/forms/EVrnxj2pzndZvNX22)"
   ]
  },
  {
   "cell_type": "code",
   "execution_count": 10,
   "metadata": {
    "collapsed": true
   },
   "outputs": [],
   "source": [
    "import numpy as np\n",
    "\n",
    "LIM = 10**6\n",
    "\n",
    "def factor(n, prime_factors):\n",
    "    '''\n",
    "    Function of prime number factorization that get rid of 2 for even numbers \n",
    "    and calls the prime factorization function for odd numbers from the numpy cookbook \n",
    "    '''\n",
    "    while n % 2 == 0:\n",
    "        n //= 2\n",
    "        prime_factors.append(2)\n",
    "    if n > 1:\n",
    "        factor_odd(n, prime_factors)\n",
    "    return prime_factors\n",
    "\n",
    "def factor_odd(n, prime_factors): \n",
    "    '''\n",
    "    Function of prime factorization for odd numbers from the numpy cookbook \n",
    "    '''\n",
    "    #1. Create array of trial values\n",
    "    a = np.ceil(np.sqrt(n))\n",
    "    lim = min(n, LIM)\n",
    "    a = np.arange(a, a + lim)\n",
    "    b2 = a**2 - n\n",
    "    \n",
    "    #2. Check whether b is a square\n",
    "    fractions = np.modf(np.sqrt(b2))[0]\n",
    "    \n",
    "    #3. Find 0 fractions\n",
    "    indices = np.where(fractions == 0)\n",
    "    \n",
    "    #4. Find the first occurrence of a 0 fraction\n",
    "    a = int(a[indices][0])\n",
    "    b = int(np.sqrt(a**2 - n))\n",
    "    c = a + b\n",
    "    d = a - b\n",
    "    if c == 1 or d == 1: \n",
    "        if c == 1:\n",
    "            prime_factors.append(d)\n",
    "        else:\n",
    "            prime_factors.append(c)\n",
    "        return\n",
    "    \n",
    "    factor_odd(c, prime_factors)\n",
    "    factor_odd(d, prime_factors)"
   ]
  },
  {
   "cell_type": "code",
   "execution_count": 11,
   "metadata": {},
   "outputs": [
    {
     "data": {
      "text/plain": [
       "[2, 13]"
      ]
     },
     "execution_count": 11,
     "metadata": {},
     "output_type": "execute_result"
    }
   ],
   "source": [
    "prime_factors = []\n",
    "n = 26\n",
    "prime_factors = factor(n, prime_factors)\n",
    "prime_factors"
   ]
  },
  {
   "cell_type": "code",
   "execution_count": 12,
   "metadata": {},
   "outputs": [
    {
     "data": {
      "text/plain": [
       "[2, 13]"
      ]
     },
     "execution_count": 12,
     "metadata": {},
     "output_type": "execute_result"
    }
   ],
   "source": [
    "calculatePrimeFactors(n)"
   ]
  },
  {
   "cell_type": "code",
   "execution_count": 13,
   "metadata": {},
   "outputs": [
    {
     "name": "stdout",
     "output_type": "stream",
     "text": [
      "Starting numpy prime factorizing\n",
      "[130643, 66103]\n",
      "[393581, 67631]\n",
      "[332201, 283637]\n",
      "[422041, 57829]\n",
      "[351731, 42293]\n",
      "[467261, 240349]\n",
      "[476639, 25147]\n",
      "[458533, 225143]\n",
      "[398819, 211661]\n",
      "[419999, 29131]\n",
      "Execution Time: 31.630956172943115\n"
     ]
    }
   ],
   "source": [
    "# Time the Numpy Factorization\n",
    "N = 1000\n",
    "\n",
    "print(\"Starting numpy prime factorizing\")\n",
    "t0 = time.time()\n",
    "for i in range(N):\n",
    "    factors = []\n",
    "    rand = random.choice(PRIMES) * random.choice(PRIMES) \n",
    "    factor_odd(rand, factors)\n",
    "    if (i % (N//10) == 0):\n",
    "        print(factors)\n",
    "t1 = time.time()\n",
    "totalTime = t1 - t0\n",
    "print(\"Execution Time: {}\".format(totalTime))"
   ]
  },
  {
   "cell_type": "markdown",
   "metadata": {},
   "source": [
    "<span style=\"color:blue\">\n",
    "**ANSWER**\n",
    "<br/>\n",
    "The numpy prime factorization took 31.630956172943115 seconds. The sequential version from 2.2 took 32.15517497062683 seconds. The parallel versions from 2.3 took 15 $\\sim$ 18 seconds. \n",
    "<br/>\n",
    "The parallel version was obviously faster than the numpy implementation, but the sequential version took similar time.\n",
    "<br/>\n",
    "As seen from the CPU monitor, the numpy implementation was using 2 vitual cores (4 vitual cores available in total).\n",
    "</span>"
   ]
  },
  {
   "cell_type": "code",
   "execution_count": null,
   "metadata": {
    "collapsed": true
   },
   "outputs": [],
   "source": []
  }
 ],
 "metadata": {
  "kernelspec": {
   "display_name": "Python 3",
   "language": "python",
   "name": "python3"
  },
  "language_info": {
   "codemirror_mode": {
    "name": "ipython",
    "version": 3
   },
   "file_extension": ".py",
   "mimetype": "text/x-python",
   "name": "python",
   "nbconvert_exporter": "python",
   "pygments_lexer": "ipython3",
   "version": "3.6.4"
  }
 },
 "nbformat": 4,
 "nbformat_minor": 2
}
