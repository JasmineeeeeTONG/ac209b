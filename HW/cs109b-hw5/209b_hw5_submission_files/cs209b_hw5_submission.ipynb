{
 "cells": [
  {
   "cell_type": "markdown",
   "metadata": {},
   "source": [
    "## AC 209B: Homework 5\n",
    "### Neural Net Basics & Feed-forward Nets\n",
    "** Harvard University ** <br>\n",
    "** Spring  2018 ** <br>\n",
    "** Instructors:** Pavlos Protopapas and Mark Glickman \n",
    "\n",
    "---\n",
    "\n",
    "### INSTRUCTIONS\n",
    "\n",
    "- To submit your assignment follow the instructions given in canvas. Make sure you include:\n",
    " 1. This notebook file `ac209b_HW5.ipynb`.\n",
    " 2. `cs209b/softmax.py`\n",
    " 3. `cs209b/neural_net.py`\n",
    " 4. `cs209b/optim.py`\n",
    "- Restart the kernel and run the whole notebook again before you submit. \n",
    "- Do not include your name(s) in the notebook if you are submitting as a group. \n",
    "- If you submit individually and you have worked with someone, please include the name of your [one] partner below. \n",
    "\n",
    "---"
   ]
  },
  {
   "cell_type": "markdown",
   "metadata": {},
   "source": [
    "** Your partner's name (if you submit separately): **"
   ]
  },
  {
   "cell_type": "markdown",
   "metadata": {},
   "source": [
    "___\n",
    "### Download CIFAR-10\n",
    "\n",
    "In these exercises you will implement some basic feedforward networks with numpy. You will not use Tensorflow or Keras in the following. See the `requirements.txt` to set up your environment. This is necessary for reproducibility reasons. Once you have set-up the working environment, download the CIFAR-10 dataset:\n",
    "```bash\n",
    "cd datasets/\n",
    "./get_datasets.sh\n",
    "```\n",
    "\n",
    "Note: if the script does not work for you, simply go to http://www.cs.toronto.edu/~kriz/cifar-10-python.tar.gz and download the file. \n",
    "\n",
    "---"
   ]
  },
  {
   "cell_type": "markdown",
   "metadata": {},
   "source": [
    "## Part 1: Softmax exercise (5pt)\n",
    "\n",
    "In this exercise you will:\n",
    "\n",
    "- implement a fully-vectorized **loss function** for the Softmax classifier\n",
    "- implement the fully-vectorized expression for its **analytic gradient**\n",
    "- **check your implementation** with numerical gradient\n",
    "- use a validation set to **tune the learning rate and regularization** strength\n",
    "- **optimize** the loss function with **SGD**\n",
    "\n",
    "Run the following code to load libraries and CIFAR-10 database."
   ]
  },
  {
   "cell_type": "code",
   "execution_count": 1,
   "metadata": {},
   "outputs": [],
   "source": [
    "import random\n",
    "import numpy as np\n",
    "from cs209b.data_utils import load_CIFAR10\n",
    "import matplotlib.pyplot as plt\n",
    "\n",
    "%matplotlib inline\n",
    "plt.rcParams['figure.figsize'] = (10.0, 8.0) # set default size of plots\n",
    "plt.rcParams['image.interpolation'] = 'nearest'\n",
    "plt.rcParams['image.cmap'] = 'gray'\n",
    "\n",
    "# for auto-reloading external modules\n",
    "# see http://stackoverflow.com/questions/1907993/autoreload-of-modules-in-ipython\n",
    "%load_ext autoreload\n",
    "%autoreload 2"
   ]
  },
  {
   "cell_type": "code",
   "execution_count": 2,
   "metadata": {},
   "outputs": [
    {
     "name": "stdout",
     "output_type": "stream",
     "text": [
      "Train data shape:  (49000, 3072)\n",
      "Train labels shape:  (49000,)\n",
      "Validation data shape:  (1000, 3072)\n",
      "Validation labels shape:  (1000,)\n",
      "Test data shape:  (1000, 3072)\n",
      "Test labels shape:  (1000,)\n",
      "dev data shape:  (500, 3072)\n",
      "dev labels shape:  (500,)\n"
     ]
    }
   ],
   "source": [
    "def get_CIFAR10_data(num_training=49000, num_validation=1000, num_test=1000, num_dev=500):\n",
    "    \"\"\"\n",
    "    Load the CIFAR-10 dataset from disk and perform preprocessing to prepare\n",
    "    it for the linear classifier. These are the same steps as we used for the\n",
    "    SVM, but condensed to a single function.  \n",
    "    \"\"\"\n",
    "    # Load the raw CIFAR-10 data\n",
    "    cifar10_dir = 'datasets/cifar-10-batches-py'\n",
    "    X_train, y_train, X_test, y_test = load_CIFAR10(cifar10_dir)\n",
    "    \n",
    "    # subsample the data\n",
    "    # Validation set\n",
    "    mask = list(range(num_training, num_training + num_validation))\n",
    "    X_val = X_train[mask]\n",
    "    y_val = y_train[mask]\n",
    "    # Training set\n",
    "    mask = list(range(num_training))\n",
    "    X_train = X_train[mask]\n",
    "    y_train = y_train[mask]\n",
    "    # Test set\n",
    "    mask = list(range(num_test))\n",
    "    X_test = X_test[mask]\n",
    "    y_test = y_test[mask]\n",
    "    # Dev data set: just for debugging purposes, it overlaps with the training set,\n",
    "    # but has a smaller size.\n",
    "    mask = np.random.choice(num_training, num_dev, replace=False)\n",
    "    X_dev = X_train[mask]\n",
    "    y_dev = y_train[mask]\n",
    "    \n",
    "    # Preprocessing: reshape the image data into rows\n",
    "    X_train = np.reshape(X_train, (X_train.shape[0], -1))\n",
    "    X_val = np.reshape(X_val, (X_val.shape[0], -1))\n",
    "    X_test = np.reshape(X_test, (X_test.shape[0], -1))\n",
    "    X_dev = np.reshape(X_dev, (X_dev.shape[0], -1))\n",
    "    \n",
    "    # Normalize the data: subtract the mean image\n",
    "    mean_image = np.mean(X_train, axis = 0)\n",
    "    X_train -= mean_image\n",
    "    X_val -= mean_image\n",
    "    X_test -= mean_image\n",
    "    X_dev -= mean_image\n",
    "    \n",
    "    return X_train, y_train, X_val, y_val, X_test, y_test, X_dev, y_dev\n",
    "\n",
    "\n",
    "# Invoke the above function to get our data.\n",
    "X_train, y_train, X_val, y_val, X_test, y_test, X_dev, y_dev = get_CIFAR10_data()\n",
    "\n",
    "# Training parameters\n",
    "m_train = X_train.shape[0]   # number of training examples\n",
    "m_dev = X_dev.shape[0]       # number of training examples in the development set\n",
    "n = X_train.shape[1]         # features dimension\n",
    "c = 10                       # number of classes in the database\n",
    "\n",
    "print('Train data shape: ', X_train.shape)\n",
    "print('Train labels shape: ', y_train.shape)\n",
    "print('Validation data shape: ', X_val.shape)\n",
    "print('Validation labels shape: ', y_val.shape)\n",
    "print('Test data shape: ', X_test.shape)\n",
    "print('Test labels shape: ', y_test.shape)\n",
    "print('dev data shape: ', X_dev.shape)\n",
    "print('dev labels shape: ', y_dev.shape)"
   ]
  },
  {
   "cell_type": "markdown",
   "metadata": {},
   "source": [
    "The following function converts the class labels into a one hot encoding representation. \n",
    "The output of the encoding is $(m,c)$, where $m$ corresponds to the number of examples and $c$ to the number of categories."
   ]
  },
  {
   "cell_type": "code",
   "execution_count": 3,
   "metadata": {},
   "outputs": [],
   "source": [
    "from sklearn.preprocessing import OneHotEncoder\n",
    "def encode_labels(y):\n",
    "    enc = OneHotEncoder()\n",
    "    enc.fit(y.reshape(-1,1))\n",
    "    y_enc = enc.transform(y.reshape(-1,1)).toarray()\n",
    "    return y_enc\n",
    "\n",
    "Y_train_enc = encode_labels(y_train)\n",
    "Y_val_enc =  encode_labels(y_val)\n",
    "Y_dev_enc = encode_labels(y_dev)\n",
    "Y_test_enc = encode_labels(y_test)"
   ]
  },
  {
   "cell_type": "markdown",
   "metadata": {},
   "source": [
    "### Softmax function\n",
    "Your code for this part should all be written inside **cs209b/softmax.py**.\n",
    "\n",
    "The expression of the multiclass cross-entropy plus regularization is given by:\n",
    "\\begin{equation}\n",
    "    J(W, b, X,y, \\text{reg}) = \n",
    "    - \\frac{1}{m}\\sum_{i=1}^m \\sum_{j=1}^c y_j^{(i)} \\log \\Bigg( \\frac{e^{w_j x^{(i)}+b_j}}{\\sum_{r=1}^c e^{w_r x^{(i)} + b_r}} \\Bigg) \n",
    "    + \\frac{1}{2}\\text{reg} \\Vert W\\Vert^2.\n",
    "\\end{equation}\n",
    "Note that we do not regularize the bias term.\n",
    "\n",
    "Other variables of interest take the following dimensions: \n",
    "- $c$ is the total number of classes; $m$ the number of examples or the size of the mini-batch; $n$ is the dimension of the input.\n",
    "- $W$ is matrix of size $(c,n)$; $w_j$ refers to the $j$th row, has size $(1,n)$.\n",
    "- $b$ is a column vector, with size $(c,1)$; $b_j$ is the $j$th component. \n",
    "- $X$ is the training mini-batch, with size $(m,n)$; $x^{(i)}$ is the $i$th example.\n",
    "- $Y$ has the labeling data with a one-hot encoding representation, and has size $(m,c)$; $y^{(i)}$ is the one-hot encoding for training example $i$, with size $(1,c)$.\n",
    "\n",
    "### Forward pass:\n",
    "\n",
    "1. Implement the  function `softmax_loss_naive`, which returns the loss of the cross-entropy function. Do not implement the gradient propagation just yet, we will explain that part after this exercise is completed and you have verified that it works correctly.\n",
    "We recommend that you write this function using a for loop over the minibatch examples, and later make a vectorized version in `softmax_loss_vectorized`. However, if you want to program the vectorized version directly, feel free to have the same code in both functions.\n",
    "\n",
    "2. Our loss should be something close to -log(0.1) (run the code below as a sanity check). Why do we expect our loss to be close to -log(0.1)? Explain briefly.\n",
    "\n",
    "\n",
    "\n",
    "Do not forget the regularization term.\n",
    "\n",
    "__Hints__: Avoid numerical problems by normalizing the exponents of the softmax function."
   ]
  },
  {
   "cell_type": "code",
   "execution_count": 4,
   "metadata": {},
   "outputs": [
    {
     "name": "stdout",
     "output_type": "stream",
     "text": [
      "random loss (naive):  2.372150\n",
      "random loss (vectorized):  2.372150\n",
      "sanity check: 2.302585\n"
     ]
    }
   ],
   "source": [
    "from cs209b.softmax import softmax_loss_naive\n",
    "from cs209b.softmax import softmax_loss_vectorized\n",
    "import time\n",
    "\n",
    "# Generate a random softmax weight matrix and use it to compute the loss.\n",
    "W = np.random.randn(c,n) * 0.0001\n",
    "b = np.random.randn(c,1) * 0.0001\n",
    "loss_naive = softmax_loss_naive(W, b, X_dev, Y_dev_enc, reg = 0.0)[0]\n",
    "loss_vectorized = softmax_loss_vectorized(W, b, X_dev, Y_dev_enc, reg = 0.0)[0]\n",
    "\n",
    "# As a rough sanity check, our loss should be something close to -log(0.1).\n",
    "print('random loss (naive):  %f' % loss_naive)\n",
    "print('random loss (vectorized):  %f' % loss_vectorized)\n",
    "print('sanity check: %f' % (-np.log(0.1)))"
   ]
  },
  {
   "cell_type": "markdown",
   "metadata": {},
   "source": [
    "---\n",
    "## _Answers_:\n",
    "\n",
    "We would expect the random initialization of W and b outputs the softmax probability of $\\frac{1}{10}$ for each of the 10 classes. Therefore, the expected cross entropy loss would be $-log(0.1)$.\n",
    "\n",
    "*Note*: Both `softmax_loss_naive` and `softmax_loss_vectorized` are vectorized in our implementation.\n",
    "\n",
    "---"
   ]
  },
  {
   "cell_type": "markdown",
   "metadata": {},
   "source": [
    "### Backward pass:\n",
    "\n",
    "Now we are going to program the gradient computation for the softmax function. You will have to figure out the correct expressions and make use of the chain rule. \n",
    "\n",
    "1. Finish the implementation of the function `softmax_loss_naive` returning correct gradients dW and db. These terms should have the following shapes:\n",
    "    - dW has dimension $(c, n)$.\n",
    "    - db has dimension $(c, 1)$.\n",
    "\n",
    "   We provide the following derivative to help with your code:\n",
    "   \\begin{equation*}\n",
    "       \\frac{\\partial J}{\\partial z_j^{(i)}} = a_j^{(i)}-y_j^{(i)}\n",
    "   \\end{equation*}\n",
    "   where $z_j^{(i)}=w_j x^{(i)}+b_j$ and $a_j^{(i)} = \\frac{e^{z_j^{(i)}}}{\\sum_{r=1}^c z_r^{(i)}}$.\n",
    "\n",
    "2. Please, finish the implementation of `softmax_loss_naive` using loops. We will later implement the vectorized version, but feel free to do it now if that is your preference. Run the following code to check analytical gradients with numerical ones. You should get errors below $10^{-7}$ (except on the bias, which may be around $10^{-7}$)."
   ]
  },
  {
   "cell_type": "code",
   "execution_count": 5,
   "metadata": {},
   "outputs": [
    {
     "name": "stdout",
     "output_type": "stream",
     "text": [
      "Numerical gradient of W without regularization:\n",
      "numerical: 0.440308 analytic: 0.440308, relative error: 1.867743e-09\n",
      "numerical: 1.019816 analytic: 1.019816, relative error: 1.173309e-10\n",
      "numerical: -0.414289 analytic: -0.414289, relative error: 2.319320e-10\n",
      "numerical: -1.618564 analytic: -1.618564, relative error: 1.076354e-10\n",
      "numerical: 0.024880 analytic: 0.024880, relative error: 3.443183e-08\n",
      "numerical: 0.589210 analytic: 0.589210, relative error: 1.067057e-09\n",
      "numerical: -0.464590 analytic: -0.464590, relative error: 6.238478e-11\n",
      "numerical: 2.185027 analytic: 2.185027, relative error: 3.243067e-10\n",
      "numerical: -0.629990 analytic: -0.629990, relative error: 2.414618e-10\n",
      "numerical: 2.215128 analytic: 2.215128, relative error: 7.727848e-10\n",
      "\n",
      "Numerical gradient of W with regularization:\n",
      "numerical: 0.988420 analytic: 0.988420, relative error: 2.347931e-10\n",
      "numerical: -0.205535 analytic: -0.205535, relative error: 6.004220e-09\n",
      "numerical: -0.140116 analytic: -0.140116, relative error: 8.694832e-09\n",
      "numerical: -2.124938 analytic: -2.124938, relative error: 4.513802e-11\n",
      "numerical: 4.103547 analytic: 4.103547, relative error: 1.651043e-10\n",
      "numerical: -1.627325 analytic: -1.627325, relative error: 5.968656e-10\n",
      "numerical: -1.088276 analytic: -1.088276, relative error: 2.905053e-10\n",
      "numerical: -1.262700 analytic: -1.262700, relative error: 6.784572e-10\n",
      "numerical: 0.552624 analytic: 0.552624, relative error: 1.908631e-09\n",
      "numerical: 0.230894 analytic: 0.230894, relative error: 2.195412e-09\n",
      "\n",
      "Numerical gradient of bias:\n",
      "numerical: 0.011228 analytic: 0.011228, relative error: 5.689103e-08\n",
      "numerical: 0.016020 analytic: 0.016020, relative error: 4.097351e-08\n",
      "numerical: 0.016020 analytic: 0.016020, relative error: 4.097351e-08\n",
      "numerical: -0.007204 analytic: -0.007204, relative error: 4.987295e-08\n",
      "numerical: -0.005719 analytic: -0.005719, relative error: 1.583247e-07\n",
      "numerical: 0.005828 analytic: 0.005828, relative error: 2.967826e-07\n",
      "numerical: 0.026876 analytic: 0.026876, relative error: 2.057792e-09\n",
      "numerical: 0.011228 analytic: 0.011228, relative error: 5.689103e-08\n",
      "numerical: 0.016020 analytic: 0.016020, relative error: 4.097351e-08\n",
      "numerical: 0.016020 analytic: 0.016020, relative error: 4.097351e-08\n"
     ]
    }
   ],
   "source": [
    "np.random.seed(1)\n",
    "W = np.random.randn(c,n) * 0.0001\n",
    "b = np.random.randn(c,1) * 0.0001\n",
    "loss, grads = softmax_loss_naive(W, b, X_dev, Y_dev_enc, 0.0)\n",
    "dW, db = grads[\"dW\"], grads[\"db\"]\n",
    "\n",
    "# We use numeric gradient checking as a debugging tool.\n",
    "# The numeric gradient should be close to the analytic gradient.\n",
    "from cs209b.gradient_check import grad_check_sparse\n",
    "f = lambda W: softmax_loss_naive(W, b, X_dev, Y_dev_enc, 0.0)[0]\n",
    "print(\"Numerical gradient of W without regularization:\")\n",
    "grad_numerical = grad_check_sparse(f, W, dW, 10)\n",
    "\n",
    "# do another gradient check with regularization\n",
    "loss, grads = softmax_loss_naive(W, b, X_dev, Y_dev_enc, 5e1)\n",
    "dW, db = grads[\"dW\"], grads[\"db\"]\n",
    "f = lambda W: softmax_loss_naive(W, b, X_dev, Y_dev_enc, 5e1)[0]\n",
    "print(\"\\nNumerical gradient of W with regularization:\")\n",
    "grad_numerical = grad_check_sparse(f, W, dW, 10)\n",
    "\n",
    "# Verify gradient of bias:\n",
    "from cs209b.gradient_check import grad_check_sparse\n",
    "f = lambda b: softmax_loss_naive(W, b, X_dev, Y_dev_enc, 0.0)[0]\n",
    "print(\"\\nNumerical gradient of bias:\")\n",
    "grad_numerical = grad_check_sparse(f, b, db, 10)"
   ]
  },
  {
   "cell_type": "markdown",
   "metadata": {},
   "source": [
    "### Vectorized version\n",
    "\n",
    "1. Now that we have a naive implementation of the softmax loss function and its gradient, implement a vectorized version `softmax_loss_vectorized` in file __cs209b/softmax.py__. The two versions should compute the same results, but the vectorized version should be much faster. It is OK if you implemented the vectorized version on both functions."
   ]
  },
  {
   "cell_type": "code",
   "execution_count": 6,
   "metadata": {},
   "outputs": [
    {
     "name": "stdout",
     "output_type": "stream",
     "text": [
      "naive loss: 2.308877e+00 computed in 0.498985s\n",
      "vectorized loss: 2.308877e+00 computed in 0.389956s\n",
      "Loss difference: 0.000000\n",
      "Gradient difference: 0.000000\n"
     ]
    }
   ],
   "source": [
    "tic = time.time()\n",
    "loss_naive, grads_naive = softmax_loss_naive(W, b, X_train, Y_train_enc, 0.000005)\n",
    "toc = time.time()\n",
    "print('naive loss: %e computed in %fs' % (loss_naive, toc - tic))\n",
    "\n",
    "from cs209b.softmax import softmax_loss_vectorized\n",
    "tic = time.time()\n",
    "loss_vectorized, grads_vectorized = softmax_loss_vectorized(W, b, X_train, Y_train_enc, 0.000005)\n",
    "toc = time.time()\n",
    "print('vectorized loss: %e computed in %fs' % (loss_vectorized, toc - tic))\n",
    "\n",
    "# We use the Frobenius norm to compare the two versions of the gradient.\n",
    "grad_difference = np.linalg.norm(grads_naive[\"dW\"] - grads_vectorized[\"dW\"], ord='fro')\n",
    "print('Loss difference: %f' % np.abs(loss_naive - loss_vectorized))\n",
    "print('Gradient difference: %f' % grad_difference)"
   ]
  },
  {
   "cell_type": "markdown",
   "metadata": {},
   "source": [
    "### Optimization:\n",
    "\n",
    "1. Complete the function `optimize` in __cs209b/softmax.py__ that performs stochastic gradient descent using mini-batches of data randomly sampled from the training set. You should complete the following steps:\n",
    "    1. Sample your mini-batch attending to the `batch_size` parameter. We suggest you use `np.random.choice` to generate indices. Sampling with replacement is faster than sampling without replacement.\n",
    "    2. Determine loss and gradients.\n",
    "    3. Retrieve derivatives from grads\n",
    "    4. Perform stochastic gradient descent update.\n",
    "\n",
    "You should see that the cost is reduced rapidly in 400 iterations. The expected costs should be around the same magnitude, although not exactly the same because of randomness.\n",
    "Continue on the evaluation part and check if you reach an accuracy of around 60% on the training data."
   ]
  },
  {
   "cell_type": "code",
   "execution_count": 7,
   "metadata": {},
   "outputs": [
    {
     "name": "stdout",
     "output_type": "stream",
     "text": [
      "Cost after iteration 0: 1.840567\n",
      "Cost after iteration 100: 0.371838\n",
      "Cost after iteration 200: 0.180250\n",
      "Cost after iteration 300: 0.097113\n",
      "Computed costs:  [1.8405671424948833, 0.3718377771255655, 0.18024994126119928, 0.09711341830148289]\n",
      "Expected costs:  [2.2500092769842173, 0.6131757237029045, 0.2379333500616387, 0.12624630382907445]\n"
     ]
    }
   ],
   "source": [
    "from cs209b.softmax import optimize\n",
    "np.random.seed(1)\n",
    "W = np.random.randn(c, n) * 0.0001\n",
    "b = np.random.randn(c, 1) * 0.0001\n",
    "params, grads, costs = optimize(W, b, X_dev, Y_dev_enc, num_iterations=400, learning_rate=1e-5, reg=0, batch_size=100, print_cost = True)\n",
    "print(\"Computed costs: \", costs)\n",
    "print(\"Expected costs: \", [2.2500092769842173, 0.6131757237029045, 0.2379333500616387, 0.12624630382907445])"
   ]
  },
  {
   "cell_type": "markdown",
   "metadata": {},
   "source": [
    "### Prediction\n",
    "\n",
    "1. Implement the function `predict` on file __cs209b/softmax.py__. The returned value of `predict` should directly return the class for the input, i.e., an integer value from 0 to $c-1$ ($c=10$ here since there are 10 classes in CIFAR-10). \n",
    "This is not the one-hot encoding that we have been using for the training labels.\n",
    "\n",
    "You should see a low number of predicted errors. The highest number we have seen is 16, and the lowest was zero."
   ]
  },
  {
   "cell_type": "code",
   "execution_count": 8,
   "metadata": {},
   "outputs": [
    {
     "name": "stdout",
     "output_type": "stream",
     "text": [
      "Number of predicted errors on dev set:  0\n"
     ]
    }
   ],
   "source": [
    "from cs209b.softmax import predict, model\n",
    "W = params[\"W\"]\n",
    "b = params[\"b\"]\n",
    "y_pred = predict(W, b, X_dev)\n",
    "print(\"Number of predicted errors on dev set: \", np.sum(np.abs(y_pred-y_dev)))"
   ]
  },
  {
   "cell_type": "markdown",
   "metadata": {},
   "source": [
    "### Evaluation\n",
    "\n",
    "1. Implement the function `model` on file __cs209b/softmax.py__ that puts all the pieces together. The function should include:\n",
    "    1. Initialize parameters W and b. Anything is fine, the problem is convex.\n",
    "    2. Optimize the parameters.\n",
    "    3. Perform predictions on the training and test sets.\n",
    "    4. Return the results.\n",
    "\n",
    "   Save the training and test predictions into `Y_prediction_train` and `Y_prediction_test`, respectively.\n",
    "2. Evaluate the model performance on the dev set. Run the following line of code. You should obtain around 59% of train accuracy, and 28% on the validation set (or above)."
   ]
  },
  {
   "cell_type": "code",
   "execution_count": 9,
   "metadata": {},
   "outputs": [
    {
     "name": "stdout",
     "output_type": "stream",
     "text": [
      "Cost after iteration 0: 18.436976\n",
      "Cost after iteration 100: 3.561583\n",
      "Cost after iteration 200: 1.962051\n",
      "Cost after iteration 300: 1.661961\n",
      "Cost after iteration 400: 1.441785\n",
      "Cost after iteration 500: 1.603502\n",
      "Cost after iteration 600: 1.611462\n",
      "Cost after iteration 700: 1.568000\n",
      "Cost after iteration 800: 1.554394\n",
      "Cost after iteration 900: 1.516330\n",
      "train accuracy: 0.64\n",
      "validation accuracy: 0.323\n"
     ]
    }
   ],
   "source": [
    "d = model(X_dev, Y_dev_enc, X_val, Y_val_enc, num_iterations = 1000, learning_rate = 1e-6, reg=1e4, batch_size = 100, print_cost = True)"
   ]
  },
  {
   "cell_type": "markdown",
   "metadata": {},
   "source": [
    "---"
   ]
  },
  {
   "cell_type": "markdown",
   "metadata": {},
   "source": [
    "## Part 2: Two-Layer Neural Network (5pts)\n",
    "\n",
    "In the next exercise you will develop a neural network with two fully-connected layers to perform classification, and test it out on the CIFAR-10 dataset. You will:\n",
    "\n",
    "- Implement the forward and backward pass of a two layer network, as well as the cross-entropy loss. \n",
    "- Train the network using stochastic gradient descent.\n",
    "- Implement dropout on the input layer and hidden layer.\n",
    "- Run the implementation on the CIFAR-10 database.\n",
    "- Implement SGD with momentum, RMSprop and Adam as optimization algorithms.\n",
    "\n",
    "__Restart the Kernel now, we will reload the database and libraries.__"
   ]
  },
  {
   "cell_type": "code",
   "execution_count": 10,
   "metadata": {},
   "outputs": [
    {
     "name": "stdout",
     "output_type": "stream",
     "text": [
      "The autoreload extension is already loaded. To reload it, use:\n",
      "  %reload_ext autoreload\n"
     ]
    }
   ],
   "source": [
    "import numpy as np\n",
    "import matplotlib.pyplot as plt\n",
    "\n",
    "%matplotlib inline\n",
    "plt.rcParams['figure.figsize'] = (10.0, 8.0) # set default size of plots\n",
    "plt.rcParams['image.interpolation'] = 'nearest'\n",
    "plt.rcParams['image.cmap'] = 'gray'\n",
    "\n",
    "# for auto-reloading external modules\n",
    "# see http://stackoverflow.com/questions/1907993/autoreload-of-modules-in-ipython\n",
    "%load_ext autoreload\n",
    "%autoreload 2\n",
    "\n",
    "def rel_error(x, y):\n",
    "    \"\"\" returns relative error \"\"\"\n",
    "    return np.max(np.abs(x - y) / (np.maximum(1e-8, np.abs(x) + np.abs(y))))"
   ]
  },
  {
   "cell_type": "markdown",
   "metadata": {},
   "source": [
    "We will implement the necessary functions to represent and train a two layer network. The network parameters are stored in the instance variable `params` where keys are string parameter names and values are numpy arrays. Below, we initialize the network parameters."
   ]
  },
  {
   "cell_type": "code",
   "execution_count": 11,
   "metadata": {},
   "outputs": [],
   "source": [
    "def init_2layer_net(input_size, hidden_size, output_size, std=1e-4):\n",
    "    \"\"\"\n",
    "    Initialize the model. Weights are initialized to small random values and\n",
    "    biases are initialized to zero. Weights and biases are stored in the\n",
    "    variable params, which is a dictionary with the following keys:\n",
    "\n",
    "    W1: First layer weights; has shape (n1, n0)\n",
    "    b1: First layer biases; has shape (n1, 1)\n",
    "    W2: Second layer weights; has shape (c, n0)\n",
    "    b2: Second layer biases; has shape (c, 1)\n",
    "\n",
    "    Inputs:\n",
    "    - input_size: The dimension n0 of the input data.\n",
    "    - hidden_size: The number of neurons n1 in the hidden layer.\n",
    "    - output_size: The number of classes c.\n",
    "    \"\"\"\n",
    "    params = {}\n",
    "    params['W1'] = std * np.random.randn(hidden_size, input_size)\n",
    "    params['b1'] = np.zeros((hidden_size, 1))\n",
    "    params['W2'] = std * np.random.randn(output_size, hidden_size)\n",
    "    params['b2'] = np.zeros((output_size, 1))\n",
    "    return params"
   ]
  },
  {
   "cell_type": "markdown",
   "metadata": {},
   "source": [
    "We initialize toy data and a toy model that we will use to develop your implementation."
   ]
  },
  {
   "cell_type": "code",
   "execution_count": 12,
   "metadata": {},
   "outputs": [],
   "source": [
    "# Create a small net and some toy data to check your implementations.\n",
    "# Note that we set the random seed for repeatable experiments.\n",
    "\n",
    "input_size = 4\n",
    "hidden_size = 10\n",
    "num_classes = 3\n",
    "num_inputs = 5\n",
    "\n",
    "def init_toy_model():\n",
    "    np.random.seed(0)\n",
    "    return init_2layer_net(input_size, hidden_size, num_classes, std=1e-1)\n",
    "\n",
    "def init_toy_data():\n",
    "    np.random.seed(1)\n",
    "    X = 10 * np.random.randn(num_inputs, input_size)\n",
    "    y = np.array([0, 1, 2, 2, 1])\n",
    "    return X, y\n",
    "\n",
    "params = init_toy_model()\n",
    "X, y = init_toy_data()"
   ]
  },
  {
   "cell_type": "markdown",
   "metadata": {},
   "source": [
    "As with the softmax classifier, we compute the one-hot encoding of the labels:"
   ]
  },
  {
   "cell_type": "code",
   "execution_count": 13,
   "metadata": {},
   "outputs": [],
   "source": [
    "from sklearn.preprocessing import OneHotEncoder\n",
    "def encode_labels(y):\n",
    "    enc = OneHotEncoder()\n",
    "    enc.fit(y.reshape(-1,1))\n",
    "    y_enc = enc.transform(y.reshape(-1,1)).toarray()\n",
    "    return y_enc\n",
    "\n",
    "Y_enc = encode_labels(y)"
   ]
  },
  {
   "cell_type": "markdown",
   "metadata": {},
   "source": [
    "### Forward pass: compute scores\n",
    "Open the file __cs209b/neural_net.py__ and look at the method `loss_2layer_net`. This function is very similar to the loss functions you have written for the Softmax exercise: It takes the data and weights and computes the class scores, the loss, and the gradients on the parameters. \n",
    "\n",
    "1. Implement the first part of the forward pass which uses the weights and biases to compute the scores for all inputs. The following equations may be helpful:\n",
    "\\begin{align}\n",
    "    & z^{[1](i)} = W^{[1]} x^{(i)} + b^{[1]} \\\\\n",
    "    & a^{[1](i)} = \\text{ReLu} (z^{[1](i)}) \\\\\n",
    "    & z^{[2](i)} = W^{[2]} a^{[1](i)} + b^{[2]} \\\\\n",
    "    & a^{[2](i)} = \\text{softmax}(z^{[2](i)}),\n",
    "\\end{align}\n",
    "where $[1],[2]$ indicate the hidden or output layer, respectively, and, $(i)$ to the $i$th training example.\n",
    "\n",
    "Have in mind the following dimensions:\n",
    "- $W^{[1]}$ has shape $(n1, n0)$\n",
    "- $b^{[1]}$ has shape $(n1, 1)$\n",
    "- $W^{[2]}$ has shape $(c, n1)$\n",
    "- $b^{[2]}$ has shape $(c, 1)$\n",
    "- $X = (x^{(i)})$ has shape $(m, n0)$   ($m$ is the number of training examples)\n",
    "- $Y$ has shape $(m, c)$  ($c$ is the number of classes)\n",
    "\n",
    "Finally, we remind you the cross-entropy loss function:\n",
    "\\begin{equation}\n",
    "    J(\\text{params},X,Y,\\text{reg}) = -\\frac{1}{m} \\sum_{i=1}^m \\sum_{j=1}^c y_j^{(i)} \n",
    "    \\log\\Bigg(\\frac{z^{[2](i)}_j}{\\sum_{r=1}^c z^{[2](i)}_r}\\Bigg)\n",
    "    + \\frac{1}{2} \\text{reg} \\Vert W^{[1]}\\Vert^2 + \\frac{1}{2} \\text{reg} \\Vert W^{[2]}\\Vert^2.\n",
    "\\end{equation}\n",
    "\n",
    "Be careful with numerical overflow, normalize the output before computing the loss."
   ]
  },
  {
   "cell_type": "code",
   "execution_count": 14,
   "metadata": {},
   "outputs": [
    {
     "name": "stdout",
     "output_type": "stream",
     "text": [
      "Your scores:\n",
      "[[-1.07260209  0.05083871 -0.87253915]\n",
      " [-2.02778743 -0.10832494 -1.52641362]\n",
      " [-0.74225908  0.15259725 -0.39578548]\n",
      " [-0.38172726  0.10835902 -0.17328274]\n",
      " [-0.64417314 -0.18886813 -0.41106892]]\n",
      "\n",
      "correct scores:\n",
      "[[-1.07260209  0.05083871 -0.87253915]\n",
      " [-2.02778743 -0.10832494 -1.52641362]\n",
      " [-0.74225908  0.15259725 -0.39578548]\n",
      " [-0.38172726  0.10835902 -0.17328274]\n",
      " [-0.64417314 -0.18886813 -0.41106892]]\n",
      "\n",
      "Difference between your scores and correct scores:\n",
      "3.381231241522675e-08\n"
     ]
    }
   ],
   "source": [
    "from cs209b.neural_net import *\n",
    "scores = loss_2layer_net(params, X, Y=None, reg=0.0)\n",
    "print('Your scores:')\n",
    "print(scores)\n",
    "print()\n",
    "print('correct scores:')\n",
    "correct_scores = np.asarray([\n",
    " [-1.07260209,  0.05083871, -0.87253915],\n",
    " [-2.02778743, -0.10832494, -1.52641362],\n",
    " [-0.74225908,  0.15259725, -0.39578548],\n",
    " [-0.38172726,  0.10835902, -0.17328274],\n",
    " [-0.64417314, -0.18886813, -0.41106892]])\n",
    "print(correct_scores)\n",
    "print()\n",
    "\n",
    "# The difference should be very small. We get < 1e-7\n",
    "print('Difference between your scores and correct scores:')\n",
    "print(np.sum(np.abs(scores - correct_scores)))"
   ]
  },
  {
   "cell_type": "markdown",
   "metadata": {},
   "source": [
    "### Forward pass: compute loss\n",
    "1. In the same function, implement the second part that computes the data and regularizaion loss."
   ]
  },
  {
   "cell_type": "code",
   "execution_count": 15,
   "metadata": {},
   "outputs": [
    {
     "name": "stdout",
     "output_type": "stream",
     "text": [
      "Difference between your loss and correct loss:\n",
      "0.0\n"
     ]
    }
   ],
   "source": [
    "loss, _ = loss_2layer_net(params, X, Y=Y_enc, reg=0.05)\n",
    "correct_loss = 1.071696123862817\n",
    "\n",
    "# should be very small, we get 0.0\n",
    "print('Difference between your loss and correct loss:')\n",
    "print(np.sum(np.abs(loss - correct_loss)))"
   ]
  },
  {
   "cell_type": "markdown",
   "metadata": {},
   "source": [
    "### Backward pass\n",
    "1. Implement the rest of the function. This will compute the gradient of the loss with respect to the variables `W1`, `b1`, `W2`, and `b2`. Now you can debug your backward pass using a numeric gradient check:"
   ]
  },
  {
   "cell_type": "code",
   "execution_count": 16,
   "metadata": {},
   "outputs": [
    {
     "name": "stdout",
     "output_type": "stream",
     "text": [
      "W1 max relative error: 1.283284e-09\n",
      "b1 max relative error: 2.202551e-09\n",
      "W2 max relative error: 3.425472e-10\n",
      "b2 max relative error: 1.839154e-10\n"
     ]
    }
   ],
   "source": [
    "from cs209b.gradient_check import grad_check\n",
    "\n",
    "# Use numeric gradient checking to check your implementation of the backward pass.\n",
    "# If your implementation is correct, the difference between the numeric and\n",
    "# analytic gradients should be less than 1e-8 for each of W1, W2, b1, and b2.\n",
    "\n",
    "loss, grads = loss_2layer_net(params, X, Y_enc, reg=0.05)\n",
    "\n",
    "def f_change_param(param_name, U):\n",
    "    params[param_name] = U\n",
    "    return loss_2layer_net(params, X, Y_enc, reg=0.05)[0]\n",
    "    \n",
    "for param_name in params:\n",
    "    f = lambda U: f_change_param(param_name, U)\n",
    "    param_grad_num = grad_check(f, params[param_name], epsilon=1e-5)\n",
    "    print('%s max relative error: %e' % (param_name, rel_error(param_grad_num, grads[\"d\"+str(param_name)])))"
   ]
  },
  {
   "cell_type": "markdown",
   "metadata": {},
   "source": [
    "## Train the network\n",
    "To train the network you will implement stochastic gradient descent (SGD) as well as other first order methods. Look at the function `train_2layer_net` in file __cs209b/neural_net.py__ and make sure you understand it. You do not need to modify this function.\n",
    "\n",
    "1. Implement function `sgd` in file __cs209b/optim.py__ that updates network parameters $W1$, $W2$, $b1$ and $b2$ using a simple gradient descent update rule. The gradients are provided in `grads` and the parameters in `params`.\n",
    "\n",
    "2. You also have to implement `predict` in __cs209b/neural_net.py__, as the training process periodically performs prediction to keep track of accuracy over time while the network trains.\n",
    "\n",
    "Once you have implemented both methods, run the code below to train a two-layer network on toy data. You should achieve a training loss less than 0.2."
   ]
  },
  {
   "cell_type": "code",
   "execution_count": 17,
   "metadata": {},
   "outputs": [
    {
     "name": "stdout",
     "output_type": "stream",
     "text": [
      "Final training loss:  0.0016458530836711452\n"
     ]
    },
    {
     "data": {
      "image/png": "[encoded data removed]",
      "text/plain": [
       "<matplotlib.figure.Figure at 0x180e1f3b00>"
      ]
     },
     "metadata": {},
     "output_type": "display_data"
    }
   ],
   "source": [
    "from cs209b.neural_net import *\n",
    "#from cs209b.optim import *\n",
    "params = init_toy_model()\n",
    "net = train_2layer_net(params, X, Y_enc, X_val=X, Y_val=Y_enc,\n",
    "            learning_rate=1e-1, reg=5e-6,\n",
    "            num_iters=100, verbose=False)\n",
    "\n",
    "print('Final training loss: ', net['loss_history'][-1])\n",
    "\n",
    "# plot the loss history\n",
    "plt.plot(net['loss_history'])\n",
    "plt.xlabel('iteration')\n",
    "plt.ylabel('training loss')\n",
    "plt.title('Training Loss history')\n",
    "plt.show()"
   ]
  },
  {
   "cell_type": "markdown",
   "metadata": {},
   "source": [
    "### Dropout\n",
    "\n",
    "Dropout is a regularization technique for deep learning that randomly shuts down some neurons in each iteration. \n",
    "\n",
    "The idea is that at each iteration, you train a different version of the network that uses only a subset of your neurons. The network thus become less sensitive to the activation of specific groups of neurons, because they can be shut down at any time. This encourages weights to be spread among all values.\n",
    "\n",
    "You will now modify the forward and backward pass of `loss_2layer_net` function to incorporate dropout on the input and hidden layer, from file __cs209b/neural_net.py__. We do not apply dropout to the output layer. We will implment inverted dropout, so that the `predict` function is transparent to the whole process.\n",
    "\n",
    "In order to implement the regularization method, you have to generate a random matrix $D^{[0]}$ and $D^{[1]}$ with 1's and 0's with the same shape as the input and hidden feature $a^{[1]}$ indicating if the neuron is active or inactive. The probability of getting an active neuron is $1-p$, where $p$ referst to the dropout probability. Do not forget to normalize the output of every layer that uses dropout with $1/(1-p)$.\n",
    "\n",
    "1. Implement the forward and backward pass now. \n",
    "\n",
    "Run the following code to check for correctness. You should see a plot with noisy descent and loss value around 0.52902613."
   ]
  },
  {
   "cell_type": "code",
   "execution_count": 18,
   "metadata": {},
   "outputs": [
    {
     "name": "stdout",
     "output_type": "stream",
     "text": [
      "Final training loss:  0.5631390138609991\n"
     ]
    },
    {
     "data": {
      "image/png": "[encoded data removed]",
      "text/plain": [
       "<matplotlib.figure.Figure at 0x102fd8668>"
      ]
     },
     "metadata": {},
     "output_type": "display_data"
    }
   ],
   "source": [
    "params = init_toy_model()\n",
    "net = train_2layer_net(params, X, Y_enc, X_val=X, Y_val=Y_enc,\n",
    "            dropout=0.4, learning_rate=1e-2, reg=0.0,\n",
    "            num_iters=200, verbose=False)\n",
    "\n",
    "print('Final training loss: ', net['loss_history'][-1])\n",
    "\n",
    "# plot the loss history\n",
    "plt.plot(net['loss_history'])\n",
    "plt.xlabel('iteration')\n",
    "plt.ylabel('training loss')\n",
    "plt.title('Training Loss history')\n",
    "plt.show()"
   ]
  },
  {
   "cell_type": "markdown",
   "metadata": {},
   "source": [
    "### Load the data\n",
    "Now that you have implemented a two-layer network that passes gradient checks and works on toy data, it's time to load up our favorite CIFAR-10 data so we can use it to train a classifier on a real dataset."
   ]
  },
  {
   "cell_type": "code",
   "execution_count": 19,
   "metadata": {},
   "outputs": [
    {
     "name": "stdout",
     "output_type": "stream",
     "text": [
      "Train data shape:  (49000, 3072)\n",
      "Train labels shape:  (49000,)\n",
      "Validation data shape:  (1000, 3072)\n",
      "Validation labels shape:  (1000,)\n",
      "Test data shape:  (1000, 3072)\n",
      "Test labels shape:  (1000,)\n"
     ]
    }
   ],
   "source": [
    "from cs209b.data_utils import load_CIFAR10\n",
    "\n",
    "def get_CIFAR10_data(num_training=49000, num_validation=1000, num_test=1000):\n",
    "    \"\"\"\n",
    "    Load the CIFAR-10 dataset from disk and perform preprocessing to prepare\n",
    "    it for the two-layer neural net classifier. These are the same steps as\n",
    "    we used for the SVM, but condensed to a single function.  \n",
    "    \"\"\"\n",
    "    # Load the raw CIFAR-10 data\n",
    "    cifar10_dir = 'datasets/cifar-10-batches-py'\n",
    "    X_train, y_train, X_test, y_test = load_CIFAR10(cifar10_dir)\n",
    "        \n",
    "    # Subsample the data\n",
    "    mask = list(range(num_training, num_training + num_validation))\n",
    "    X_val = X_train[mask]\n",
    "    y_val = y_train[mask]\n",
    "    mask = list(range(num_training))\n",
    "    X_train = X_train[mask]\n",
    "    y_train = y_train[mask]\n",
    "    mask = list(range(num_test))\n",
    "    X_test = X_test[mask]\n",
    "    y_test = y_test[mask]\n",
    "\n",
    "    # Normalize the data: subtract the mean image\n",
    "    mean_image = np.mean(X_train, axis=0)\n",
    "    X_train -= mean_image\n",
    "    X_val -= mean_image\n",
    "    X_test -= mean_image\n",
    "\n",
    "    # Reshape data to rows\n",
    "    X_train = X_train.reshape(num_training, -1)\n",
    "    X_val = X_val.reshape(num_validation, -1)\n",
    "    X_test = X_test.reshape(num_test, -1)\n",
    "\n",
    "    return X_train, y_train, X_val, y_val, X_test, y_test\n",
    "\n",
    "\n",
    "# Invoke the above function to get our data.\n",
    "X_train, y_train, X_val, y_val, X_test, y_test = get_CIFAR10_data()\n",
    "print('Train data shape: ', X_train.shape)\n",
    "print('Train labels shape: ', y_train.shape)\n",
    "print('Validation data shape: ', X_val.shape)\n",
    "print('Validation labels shape: ', y_val.shape)\n",
    "print('Test data shape: ', X_test.shape)\n",
    "print('Test labels shape: ', y_test.shape)"
   ]
  },
  {
   "cell_type": "markdown",
   "metadata": {},
   "source": [
    "Perform one-hot encoding for the training, validation and test labels:"
   ]
  },
  {
   "cell_type": "code",
   "execution_count": 20,
   "metadata": {},
   "outputs": [],
   "source": [
    "Y_train_enc = encode_labels(y_train)\n",
    "Y_val_enc = encode_labels(y_val)\n",
    "Y_test_enc = encode_labels(y_test)"
   ]
  },
  {
   "cell_type": "markdown",
   "metadata": {},
   "source": [
    "### Train a network\n",
    "To train our network we will use SGD. In addition, we will adjust the learning rate with an exponential learning rate schedule as optimization proceeds; after each epoch, we will reduce the learning rate by multiplying it by a decay rate."
   ]
  },
  {
   "cell_type": "code",
   "execution_count": 21,
   "metadata": {},
   "outputs": [
    {
     "name": "stdout",
     "output_type": "stream",
     "text": [
      "iter 0 / 1000: loss 2.302758\n",
      "iter 100 / 1000: loss 2.302285\n",
      "iter 200 / 1000: loss 2.299410\n",
      "iter 300 / 1000: loss 2.269269\n",
      "iter 400 / 1000: loss 2.181931\n",
      "iter 500 / 1000: loss 2.124368\n",
      "iter 600 / 1000: loss 2.054913\n",
      "iter 700 / 1000: loss 2.072344\n",
      "iter 800 / 1000: loss 1.977126\n",
      "iter 900 / 1000: loss 1.921021\n",
      "Validation accuracy:  0.293\n"
     ]
    }
   ],
   "source": [
    "input_size = 32 * 32 * 3\n",
    "hidden_size = 50\n",
    "num_classes = 10\n",
    "params = init_2layer_net(input_size, hidden_size, num_classes)\n",
    "# Train the network\n",
    "net = train_2layer_net(params, X_train, Y_train_enc, X_val, Y_val_enc,\n",
    "            num_iters=1000, batch_size=200,\n",
    "            learning_rate=1e-4, learning_rate_decay=0.95,\n",
    "            dropout=0.0, reg=0.25, verbose=True)\n",
    "\n",
    "# Predict on the validation set\n",
    "val_acc = np.mean(predict(net[\"params\"],X_val) == y_val)\n",
    "print('Validation accuracy: ', val_acc)"
   ]
  },
  {
   "cell_type": "markdown",
   "metadata": {},
   "source": [
    "### Debug the training\n",
    "With the default parameters we provided above, you should get a validation accuracy of about 0.29 on the validation set. This isn't very good.\n",
    "\n",
    "One strategy for getting insight into what's wrong is to plot the loss function and the accuracies on the training and validation sets during optimization."
   ]
  },
  {
   "cell_type": "code",
   "execution_count": 22,
   "metadata": {},
   "outputs": [
    {
     "data": {
      "image/png": "[encoded data removed]",
      "text/plain": [
       "<matplotlib.figure.Figure at 0x180a19ad68>"
      ]
     },
     "metadata": {},
     "output_type": "display_data"
    },
    {
     "data": {
      "image/png": "[encoded data removed]",
      "text/plain": [
       "<matplotlib.figure.Figure at 0x180e3e5f28>"
      ]
     },
     "metadata": {},
     "output_type": "display_data"
    }
   ],
   "source": [
    "# Plot the loss function and train / validation accuracies\n",
    "plt.subplot(2, 1, 1)\n",
    "plt.plot(net['loss_history'])\n",
    "plt.title('Loss history')\n",
    "plt.xlabel('Iteration')\n",
    "plt.ylabel('Loss')\n",
    "plt.show()\n",
    "\n",
    "plt.subplot(2, 1, 2)\n",
    "plt.plot(net['train_acc_history'], label='train')\n",
    "plt.plot(net['val_acc_history'], label='val')\n",
    "plt.title('Classification accuracy history')\n",
    "plt.xlabel('Epoch')\n",
    "plt.ylabel('Clasification accuracy')\n",
    "plt.legend()\n",
    "plt.show()"
   ]
  },
  {
   "cell_type": "markdown",
   "metadata": {},
   "source": [
    "### Tune your hyperparameters\n",
    "\n",
    "**Tuning**. Tuning the hyperparameters and developing intuition for how they affect the final performance is a large part of using Neural Networks. You should experiment with different values of the various hyperparameters, including hidden layer size, learning rate, numer of training epochs, regularization strength and dropout probability. You might also consider tuning the learning rate decay, but you should be able to get good performance using the default value.\n",
    "\n",
    "1. Find good hyperparameters that achieve a classification accuracy of greater than 48% on the validation set. You may use the following code to search for these parameters. For grading purposes, leave only the best hyperparameters you found."
   ]
  },
  {
   "cell_type": "code",
   "execution_count": 23,
   "metadata": {},
   "outputs": [
    {
     "name": "stdout",
     "output_type": "stream",
     "text": [
      "iter 0 / 2000: loss 2.302970\n",
      "iter 100 / 2000: loss 1.965017\n",
      "iter 200 / 2000: loss 1.764674\n",
      "iter 300 / 2000: loss 1.688132\n",
      "iter 400 / 2000: loss 1.714392\n",
      "iter 500 / 2000: loss 1.534171\n",
      "iter 600 / 2000: loss 1.537983\n",
      "iter 700 / 2000: loss 1.579538\n",
      "iter 800 / 2000: loss 1.525457\n",
      "iter 900 / 2000: loss 1.513263\n",
      "iter 1000 / 2000: loss 1.590375\n",
      "iter 1100 / 2000: loss 1.583635\n",
      "iter 1200 / 2000: loss 1.467874\n",
      "iter 1300 / 2000: loss 1.387518\n",
      "iter 1400 / 2000: loss 1.541379\n",
      "iter 1500 / 2000: loss 1.458956\n",
      "iter 1600 / 2000: loss 1.601548\n",
      "iter 1700 / 2000: loss 1.454189\n",
      "iter 1800 / 2000: loss 1.430697\n",
      "iter 1900 / 2000: loss 1.432853\n",
      "Validation accuracy:  0.509\n"
     ]
    }
   ],
   "source": [
    "best_net = None # store the best model into this \n",
    "\n",
    "#################################################################################\n",
    "# Tune hyperparameters using the validation set.                                #\n",
    "# Store your best trained model leaving only your best combination of           #\n",
    "# hyperparameters.                                                              #\n",
    "#                                                                               #\n",
    "# Use this code to find good hyperparamters.                                    # \n",
    "#################################################################################\n",
    "\n",
    "best_val = -1\n",
    "results = {}\n",
    "\n",
    "np.random.seed(0)\n",
    "\n",
    "batch_sizes = [200]      # KEEP ONLY THE BEST VALUE\n",
    "learning_rates = [1e-3]  # KEEP ONLY THE BEST VALUE\n",
    "regs = [0.5]              # KEEP ONLY THE BEST VALUE\n",
    "dropouts = [0.0]         # KEEP ONLY THE BEST VALUE \n",
    "\n",
    "grid_search=[(s,x,y,z) for s in dropouts for x in batch_sizes for y in learning_rates for z in regs]\n",
    "\n",
    "for dropout, batch_size, learning_rate, reg in grid_search:\n",
    "    \n",
    "    params = init_2layer_net(input_size, hidden_size, num_classes)\n",
    "\n",
    "    # Train the network\n",
    "    net = train_2layer_net(params, X_train, Y_train_enc, X_val, Y_val_enc,\n",
    "                num_iters=2000, batch_size=batch_size,\n",
    "                learning_rate=learning_rate, learning_rate_decay=0.95,\n",
    "                dropout=dropout, reg=reg, verbose=True)\n",
    "\n",
    "    # Predict on the validation set and compute accuracy\n",
    "    val_acc = (predict(net[\"params\"], X_val) == y_val).mean()\n",
    "    print('Validation accuracy: ', val_acc)\n",
    "    \n",
    "    results[(dropout,batch_size,learning_rate,reg)]=val_acc\n",
    "    \n",
    "    if val_acc>best_val:\n",
    "        best_val=val_acc\n",
    "        best_net=net"
   ]
  },
  {
   "cell_type": "markdown",
   "metadata": {},
   "source": [
    "### Run on the test set\n",
    "When you are done experimenting, you should evaluate your final trained network on the test set; you should get above 48%."
   ]
  },
  {
   "cell_type": "code",
   "execution_count": 24,
   "metadata": {},
   "outputs": [
    {
     "name": "stdout",
     "output_type": "stream",
     "text": [
      "Test accuracy:  0.485\n"
     ]
    }
   ],
   "source": [
    "params = best_net[\"params\"]\n",
    "test_acc = (predict(params, X_test) == y_test).mean()\n",
    "print('Test accuracy: ', test_acc)"
   ]
  },
  {
   "cell_type": "markdown",
   "metadata": {},
   "source": [
    "Apply the same architecture but train it for **more (4000) epochs**:"
   ]
  },
  {
   "cell_type": "code",
   "execution_count": 25,
   "metadata": {},
   "outputs": [
    {
     "name": "stdout",
     "output_type": "stream",
     "text": [
      "iter 0 / 4000: loss 2.302970\n",
      "iter 100 / 4000: loss 1.965017\n",
      "iter 200 / 4000: loss 1.764674\n",
      "iter 300 / 4000: loss 1.688132\n",
      "iter 400 / 4000: loss 1.714392\n",
      "iter 500 / 4000: loss 1.534171\n",
      "iter 600 / 4000: loss 1.537983\n",
      "iter 700 / 4000: loss 1.579538\n",
      "iter 800 / 4000: loss 1.525457\n",
      "iter 900 / 4000: loss 1.513263\n",
      "iter 1000 / 4000: loss 1.590375\n",
      "iter 1100 / 4000: loss 1.583635\n",
      "iter 1200 / 4000: loss 1.467874\n",
      "iter 1300 / 4000: loss 1.387518\n",
      "iter 1400 / 4000: loss 1.541379\n",
      "iter 1500 / 4000: loss 1.458956\n",
      "iter 1600 / 4000: loss 1.601548\n",
      "iter 1700 / 4000: loss 1.454189\n",
      "iter 1800 / 4000: loss 1.430697\n",
      "iter 1900 / 4000: loss 1.432853\n",
      "iter 2000 / 4000: loss 1.403654\n",
      "iter 2100 / 4000: loss 1.474237\n",
      "iter 2200 / 4000: loss 1.436211\n",
      "iter 2300 / 4000: loss 1.303527\n",
      "iter 2400 / 4000: loss 1.462674\n",
      "iter 2500 / 4000: loss 1.507066\n",
      "iter 2600 / 4000: loss 1.486668\n",
      "iter 2700 / 4000: loss 1.539378\n",
      "iter 2800 / 4000: loss 1.433451\n",
      "iter 2900 / 4000: loss 1.458442\n",
      "iter 3000 / 4000: loss 1.275907\n",
      "iter 3100 / 4000: loss 1.395572\n",
      "iter 3200 / 4000: loss 1.289468\n",
      "iter 3300 / 4000: loss 1.302251\n",
      "iter 3400 / 4000: loss 1.306178\n",
      "iter 3500 / 4000: loss 1.520798\n",
      "iter 3600 / 4000: loss 1.434705\n",
      "iter 3700 / 4000: loss 1.498881\n",
      "iter 3800 / 4000: loss 1.319477\n",
      "iter 3900 / 4000: loss 1.386265\n",
      "Validation accuracy:  0.524\n"
     ]
    }
   ],
   "source": [
    "best_net = None # store the best model into this \n",
    "\n",
    "#################################################################################\n",
    "# Tune hyperparameters using the validation set.                                #\n",
    "# Store your best trained model leaving only your best combination of           #\n",
    "# hyperparameters.                                                              #\n",
    "#                                                                               #\n",
    "# Use this code to find good hyperparamters.                                    # \n",
    "#################################################################################\n",
    "\n",
    "best_val = -1\n",
    "results = {}\n",
    "\n",
    "np.random.seed(0)\n",
    "\n",
    "batch_sizes = [200]      # KEEP ONLY THE BEST VALUE\n",
    "learning_rates = [1e-3]  # KEEP ONLY THE BEST VALUE\n",
    "regs = [0.5]              # KEEP ONLY THE BEST VALUE\n",
    "dropouts = [0.0]         # KEEP ONLY THE BEST VALUE \n",
    "\n",
    "grid_search=[(s,x,y,z) for s in dropouts for x in batch_sizes for y in learning_rates for z in regs]\n",
    "\n",
    "for dropout, batch_size, learning_rate, reg in grid_search:\n",
    "    \n",
    "    params = init_2layer_net(input_size, hidden_size, num_classes)\n",
    "\n",
    "    # Train the network\n",
    "    net = train_2layer_net(params, X_train, Y_train_enc, X_val, Y_val_enc,\n",
    "                num_iters=4000, batch_size=batch_size,\n",
    "                learning_rate=learning_rate, learning_rate_decay=0.95,\n",
    "                dropout=dropout, reg=reg, verbose=True)\n",
    "\n",
    "    # Predict on the validation set and compute accuracy\n",
    "    val_acc = (predict(net[\"params\"], X_val) == y_val).mean()\n",
    "    print('Validation accuracy: ', val_acc)\n",
    "    \n",
    "    results[(dropout,batch_size,learning_rate,reg)]=val_acc\n",
    "    \n",
    "    if val_acc>best_val:\n",
    "        best_val=val_acc\n",
    "        best_net=net"
   ]
  },
  {
   "cell_type": "code",
   "execution_count": 26,
   "metadata": {},
   "outputs": [
    {
     "name": "stdout",
     "output_type": "stream",
     "text": [
      "Test accuracy:  0.508\n"
     ]
    }
   ],
   "source": [
    "params = best_net[\"params\"]\n",
    "test_acc = (predict(params, X_test) == y_test).mean()\n",
    "print('Test accuracy: ', test_acc)"
   ]
  },
  {
   "cell_type": "markdown",
   "metadata": {},
   "source": [
    "## OPTIONAL: Optimization algorithms (3 extra points)\n",
    "\n",
    "You have used stochastic gradient descent to train the network, but now we are going to implement sgd with momentum, RMSprop and Adam as optimization improvements to our training."
   ]
  },
  {
   "cell_type": "markdown",
   "metadata": {},
   "source": [
    "### SGD with momentum\n",
    "\n",
    "SGD has trouble minimizing the cost on areas where the surface curves more steeply in one dimension than in another. In these situations, SGD oscillates across the slopes and only making slow progress along the bottom towards a local optimum. \n",
    "\n",
    "SGD with Momentum helps accelerate SGD in the relevant direction and dampens oscillations. It adds a fraction $\\gamma$ of the update vector of the past time step to the current update vector:\n",
    "\\begin{align}\n",
    "    & v_t = \\beta v_{t-1} + (1-\\beta) \\nabla_{w} J \\\\\n",
    "    & w_t = w_{t-1} - \\alpha v_t,\n",
    "\\end{align}\n",
    "where $w$ is the parameter of interest, $\\alpha$ refers to the learning rate, and $t$ iteration number.\n",
    "The previous update rule is performed on all parameters of the neural network, i.e., $W^{[1]}$, $W^{[2]}$, $b^{[1]}$ and $b^{[2]}$. The velocity $v_t$ is different for each parameter.\n",
    "\n",
    "1. Implement function `sgd_momentum` in __cs209b/optim.py__ and run the following code to minimize the cost function. You should get an accuracy of around 0.47 or above in 2000 iterations with a learning rate of 1e-3. "
   ]
  },
  {
   "cell_type": "code",
   "execution_count": 27,
   "metadata": {},
   "outputs": [
    {
     "name": "stdout",
     "output_type": "stream",
     "text": [
      "iter 0 / 2000: loss 2.302769\n",
      "iter 100 / 2000: loss 2.116357\n",
      "iter 200 / 2000: loss 1.888966\n",
      "iter 300 / 2000: loss 1.997414\n",
      "iter 400 / 2000: loss 1.524654\n",
      "iter 500 / 2000: loss 1.864854\n",
      "iter 600 / 2000: loss 1.538710\n",
      "iter 700 / 2000: loss 1.445322\n",
      "iter 800 / 2000: loss 1.534040\n",
      "iter 900 / 2000: loss 1.486341\n",
      "iter 1000 / 2000: loss 1.607137\n",
      "iter 1100 / 2000: loss 1.492290\n",
      "iter 1200 / 2000: loss 1.445142\n",
      "iter 1300 / 2000: loss 1.270807\n",
      "iter 1400 / 2000: loss 1.572310\n",
      "iter 1500 / 2000: loss 1.325115\n",
      "iter 1600 / 2000: loss 1.524253\n",
      "iter 1700 / 2000: loss 1.515654\n",
      "iter 1800 / 2000: loss 1.521185\n",
      "iter 1900 / 2000: loss 1.414452\n",
      "Validation accuracy:  0.479\n"
     ]
    }
   ],
   "source": [
    "input_size = 32 * 32 * 3\n",
    "hidden_size = 50\n",
    "num_classes = 10\n",
    "params = init_2layer_net(input_size, hidden_size, num_classes)\n",
    "# Train the network\n",
    "net = train_2layer_net(params, X_train, Y_train_enc, X_val, Y_val_enc,\n",
    "            num_iters=2000, batch_size=100, optimizer=\"momentum\",\n",
    "            learning_rate=1e-3, beta = 0.9, learning_rate_decay=1,\n",
    "            reg=0.25, verbose=True)\n",
    "\n",
    "# Predict on the validation set\n",
    "val_acc = np.mean(predict(net[\"params\"],X_val) == y_val)\n",
    "print('Validation accuracy: ', val_acc)"
   ]
  },
  {
   "cell_type": "markdown",
   "metadata": {},
   "source": [
    "### RMSprop\n",
    "\n",
    "RMSprop is an unpublished, adaptive learning rate method proposed by Geoff Hinton to resolve the diminishing learning rates of Adagrad and other descent techniques. It tracks a second moment of the gradient to control the learning rate. Its equations are as follows:\n",
    "\\begin{align}\n",
    "    & s_t = \\beta_2 s_{t-1} + (1-\\beta_2) (\\nabla_w J)^2 \\\\\n",
    "    & w_t = w_{t-1} + \\alpha \\frac{1}{\\sqrt{s_t}+\\epsilon} \\nabla_w J,\n",
    "\\end{align}\n",
    "for every parameter to update. \n",
    "\n",
    "1. Implement function `rmsprop` on file __cs209b/optim.py__. We get an accuracy of 0.47."
   ]
  },
  {
   "cell_type": "code",
   "execution_count": 30,
   "metadata": {},
   "outputs": [
    {
     "name": "stdout",
     "output_type": "stream",
     "text": [
      "iter 0 / 2000: loss 2.302771\n",
      "iter 100 / 2000: loss 1.882606\n",
      "iter 200 / 2000: loss 1.683040\n",
      "iter 300 / 2000: loss 1.639141\n",
      "iter 400 / 2000: loss 1.763404\n",
      "iter 500 / 2000: loss 1.643682\n",
      "iter 600 / 2000: loss 1.587571\n",
      "iter 700 / 2000: loss 1.565562\n",
      "iter 800 / 2000: loss 1.670900\n",
      "iter 900 / 2000: loss 1.737818\n",
      "iter 1000 / 2000: loss 1.627008\n",
      "iter 1100 / 2000: loss 1.451146\n",
      "iter 1200 / 2000: loss 1.627374\n",
      "iter 1300 / 2000: loss 1.507571\n",
      "iter 1400 / 2000: loss 1.612409\n",
      "iter 1500 / 2000: loss 1.563721\n",
      "iter 1600 / 2000: loss 1.609733\n",
      "iter 1700 / 2000: loss 1.509003\n",
      "iter 1800 / 2000: loss 1.520945\n",
      "iter 1900 / 2000: loss 1.515463\n",
      "Validation accuracy:  0.486\n"
     ]
    }
   ],
   "source": [
    "input_size = 32 * 32 * 3\n",
    "hidden_size = 50\n",
    "num_classes = 10\n",
    "params = init_2layer_net(input_size, hidden_size, num_classes)\n",
    "# Train the network\n",
    "net = train_2layer_net(params, X_train, Y_train_enc, X_val, Y_val_enc,\n",
    "            num_iters=2000, batch_size=200, optimizer=\"rmsprop\",\n",
    "            learning_rate=1e-4, beta2=0.999, epsilon=1e-8,\n",
    "            learning_rate_decay=1, reg=0.25, verbose=True)\n",
    "\n",
    "# Predict on the validation set\n",
    "val_acc = np.mean(predict(net[\"params\"],X_val) == y_val)\n",
    "print('Validation accuracy: ', val_acc)"
   ]
  },
  {
   "cell_type": "markdown",
   "metadata": {},
   "source": [
    "### Adam\n",
    "\n",
    "Adaptive Moment Estimation ([Adam](https://arxiv.org/abs/1412.6980)) is first order method that that computes adaptive learning rates for each parameter.\n",
    "\n",
    "Adam keeps an exponentially decaying average of past gradients $v_t$, similar to momentum:\n",
    "\\begin{align}\n",
    "    & v_t = \\beta_1 v_{t-1} + (1-\\beta_1) \\nabla_w J \\\\\n",
    "    & s_t = \\beta_2 s_{t-1} + (1-\\beta_2) (\\nabla_w J)^2.\n",
    "\\end{align}\n",
    "\n",
    "$v_t$ and $s_t$ are estimates of the first moment (the mean) and the second moment (the uncentered variance) of the gradients, respectively. As $v_t$ and $s_t$ are initialized, the authors of Adam observe that they are biased towards zero, especially during the initial time steps, and especially when the decay rates are small (i.e. $\\beta_1$ and $\\beta_2$ are close to 1).\n",
    "\n",
    "They control these underestimates with bias correction:\n",
    "\\begin{align}\n",
    "    & \\hat{v}_t = \\frac{v_t}{1 - \\beta_1^t} \\\\\n",
    "    & \\hat{s}_t = \\frac{s_t}{1 - \\beta_2^t},\n",
    "\\end{align}\n",
    "where $\\hat{v}_t$ and $\\hat{s}_t$ stand for the corrected versions.\n",
    "\n",
    "Finally, the authors update the parameters with the following rule:\n",
    "\\begin{equation}\n",
    "    w_t = w_{t-1} - \\alpha \\frac{\\hat{v}_t}{\\sqrt{\\hat{s}_t}+\\epsilon}.\n",
    "\\end{equation}\n",
    "\n",
    "1. Implement function `adam` in __cs209b/optim.py__ and run the following code to minimize the cost function. We get an accuracy of 0.48 in 2000 iterations with a learning rate of 1e-4."
   ]
  },
  {
   "cell_type": "code",
   "execution_count": 32,
   "metadata": {},
   "outputs": [
    {
     "name": "stdout",
     "output_type": "stream",
     "text": [
      "iter 0 / 2000: loss 2.302773\n",
      "iter 100 / 2000: loss 1.799709\n",
      "iter 200 / 2000: loss 1.654577\n",
      "iter 300 / 2000: loss 1.631738\n",
      "iter 400 / 2000: loss 1.598364\n",
      "iter 500 / 2000: loss 1.673782\n",
      "iter 600 / 2000: loss 1.560236\n",
      "iter 700 / 2000: loss 1.501966\n",
      "iter 800 / 2000: loss 1.561815\n",
      "iter 900 / 2000: loss 1.531484\n",
      "iter 1000 / 2000: loss 1.608274\n",
      "iter 1100 / 2000: loss 1.669288\n",
      "iter 1200 / 2000: loss 1.470763\n",
      "iter 1300 / 2000: loss 1.463567\n",
      "iter 1400 / 2000: loss 1.510683\n",
      "iter 1500 / 2000: loss 1.429695\n",
      "iter 1600 / 2000: loss 1.535505\n",
      "iter 1700 / 2000: loss 1.413637\n",
      "iter 1800 / 2000: loss 1.576382\n",
      "iter 1900 / 2000: loss 1.428817\n",
      "Validation accuracy:  0.508\n"
     ]
    }
   ],
   "source": [
    "input_size = 32 * 32 * 3\n",
    "hidden_size = 50\n",
    "num_classes = 10\n",
    "params = init_2layer_net(input_size, hidden_size, num_classes)\n",
    "# Train the network\n",
    "net = train_2layer_net(params, X_train, Y_train_enc, X_val, Y_val_enc,\n",
    "            num_iters=2000, batch_size=200, optimizer=\"adam\",\n",
    "            learning_rate=1e-4, beta1=0.9, beta2=0.999, epsilon=1e-8,\n",
    "            learning_rate_decay=1, reg=0.25, verbose=True)\n",
    "\n",
    "# Predict on the validation set\n",
    "val_acc = np.mean(predict(net[\"params\"],X_val) == y_val)\n",
    "print('Validation accuracy: ', val_acc)"
   ]
  },
  {
   "cell_type": "markdown",
   "metadata": {},
   "source": [
    "---\n",
    "### Acknowledgments for the CS209B part:\n",
    "\n",
    "Some of the code snipets and documentation was borrowed from the cs231n Stanford course. In particular, we reused all code to download CIFAR-10 and data_utils.py. Our problem layout is also based on their original structure, inspired as well on deeplearning.ai course layout."
   ]
  },
  {
   "cell_type": "code",
   "execution_count": null,
   "metadata": {},
   "outputs": [],
   "source": []
  }
 ],
 "metadata": {
  "kernelspec": {
   "display_name": "Python 3",
   "language": "python",
   "name": "python3"
  },
  "language_info": {
   "codemirror_mode": {
    "name": "ipython",
    "version": 3
   },
   "file_extension": ".py",
   "mimetype": "text/x-python",
   "name": "python",
   "nbconvert_exporter": "python",
   "pygments_lexer": "ipython3",
   "version": "3.6.4"
  }
 },
 "nbformat": 4,
 "nbformat_minor": 2
}
