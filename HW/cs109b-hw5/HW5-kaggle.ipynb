{
 "cells": [
  {
   "cell_type": "code",
   "execution_count": 1,
   "metadata": {},
   "outputs": [
    {
     "name": "stderr",
     "output_type": "stream",
     "text": [
      "Using TensorFlow backend.\n"
     ]
    }
   ],
   "source": [
    "import sys\n",
    "\n",
    "import warnings\n",
    "warnings.filterwarnings(\"ignore\")\n",
    "\n",
    "import keras\n",
    "from keras.models import Sequential\n",
    "from keras.layers import Dense, Dropout, Activation, BatchNormalization, Dropout\n",
    "from keras.optimizers import SGD, RMSprop, Adam\n",
    "from keras.callbacks import Callback, EarlyStopping, ModelCheckpoint\n",
    "from keras.models import load_model\n",
    "\n",
    "import numpy as np\n",
    "import pandas as pd\n",
    "import time\n",
    "\n",
    "from sklearn.svm import SVC\n",
    "from sklearn.linear_model import LogisticRegressionCV\n",
    "from sklearn.ensemble import RandomForestClassifier\n",
    "from sklearn.model_selection import GridSearchCV\n",
    "\n",
    "%matplotlib inline\n",
    "import matplotlib\n",
    "import matplotlib.pyplot as plt\n",
    "import matplotlib.image as mpimg\n",
    "\n",
    "from HW5_functions import plot_data, plot_decision_boundary, plot_learning_curve"
   ]
  },
  {
   "cell_type": "code",
   "execution_count": 2,
   "metadata": {},
   "outputs": [],
   "source": [
    "#--------  generate_fractals\n",
    "# A function to generate 'n' Sierpinski fractal data points at scale 'm'\n",
    "# Input: \n",
    "#      n (number of data points)\n",
    "#      m (scale to which the Sierpinski is generated)\n",
    "# Ouput:\n",
    "#      n x 3 data set (covariates, labels)\n",
    "\n",
    "def generate_fractals(n, m):\n",
    "    # Initial triangle vertices\n",
    "    v1 = [0,0]\n",
    "    v2 = [1,0]\n",
    "    v3 = [.5, 0.99]\n",
    "\n",
    "    npos = int(np.ceil(n/2.))\n",
    "    nneg = int(np.floor(n/2.))\n",
    "    \n",
    "    # Generate npos positive points over fractal\n",
    "    posdata = np.zeros((npos,3))\n",
    "    for i in range(npos):\n",
    "        curr_point = pick_point(v1, v2, v3, m)\n",
    "\n",
    "        posdata[i,0] = curr_point[0]\n",
    "        posdata[i,1] = curr_point[1]\n",
    "        posdata[i,2] = 1\n",
    "\n",
    "    # Generate nneg positive points over entire square\n",
    "    negdata = np.random.rand(nneg,2)\n",
    "    negdata = np.append(negdata, np.zeros((nneg,1)), axis=1)\n",
    "\n",
    "    # Combine positive and negative points\n",
    "    data = np.append(posdata, negdata, axis=0)\n",
    "\n",
    "    # Return permuted data set\n",
    "    perm = np.random.permutation(n)\n",
    "    return data[perm, :]\n",
    "\n",
    "\n",
    "# Function to compute the midpoint of two points\n",
    "def midpoint(point1, point2):\n",
    "    return [(point1[0] + point2[0])/2., (point1[1] + point2[1])/2.]\n",
    "\n",
    "\n",
    "# Function to compute the center of a triangle based on proportions alpha1, alpha2 and alpha3\n",
    "def center(vertex1, vertex2, vertex3, alpha1, alpha2, alpha3):\n",
    "    return [alpha1*vertex1[0] + alpha2*vertex2[0] + alpha3*vertex3[0],\\\n",
    "                   alpha1*vertex1[1] + alpha2*vertex2[1] + alpha3*vertex3[1]]\n",
    "\n",
    "\n",
    "# Function to draw a random point from a Sierpinski triangle at scale 'n'\n",
    "def pick_point(vertex1, vertex2, vertex3, n):\n",
    "    if n == 0:\n",
    "        alpha1 = np.random.rand()\n",
    "        alpha2 = np.random.rand()\n",
    "        alpha3 = np.random.rand()\n",
    "        tot = alpha1 + alpha2 + alpha3\n",
    "        return center(vertex1, vertex2, vertex3, alpha1/tot, alpha2/tot, alpha3/tot)\n",
    "    else:\n",
    "        val = np.random.randint(0,3)\n",
    "        if val == 0:\n",
    "            return pick_point(vertex1, midpoint(vertex1, vertex2), midpoint(vertex1, vertex3), n-1)\n",
    "        elif val == 1:\n",
    "            return pick_point(midpoint(vertex2, vertex1), vertex2, midpoint(vertex2, vertex3), n-1)\n",
    "        else:\n",
    "            return pick_point(midpoint(vertex3, vertex1), midpoint(vertex3, vertex2), vertex3, n-1)"
   ]
  },
  {
   "cell_type": "code",
   "execution_count": null,
   "metadata": {},
   "outputs": [],
   "source": [
    "# np.save('kaggle_data/data_train', data_train)"
   ]
  },
  {
   "cell_type": "code",
   "execution_count": null,
   "metadata": {},
   "outputs": [],
   "source": [
    "# data_train = np.load('kaggle_data/data_train.npy')\n",
    "\n",
    "# df_train = pd.DataFrame(data_train)\n",
    "# df_train.head()\n",
    "\n",
    "# X_train = df_train.iloc[:, :2].values\n",
    "# Y_train = df_train.iloc[:, 2].values\n",
    "\n",
    "# dev_mask = np.random.choice(len(X_train), size=10000, replace=False)\n",
    "# X_dev = X_train[dev_mask, :]\n",
    "# Y_dev = Y_train[dev_mask]\n",
    "\n",
    "# dev_vali_mask = np.random.choice(10000, size=1000, replace=False)\n",
    "# X_dev_vali = X_dev[dev_vali_mask, :]\n",
    "# Y_dev_vali = Y_dev[dev_vali_mask]"
   ]
  },
  {
   "cell_type": "code",
   "execution_count": null,
   "metadata": {},
   "outputs": [],
   "source": [
    "# # visualize data\n",
    "# fig, axes = plt.subplots(1, 2, figsize=(12, 5))\n",
    "# plot_data(X_train, Y_train, axes[0], 'Train Data')\n",
    "# plot_data(X_dev, Y_dev, axes[1], 'Dev Train Data')"
   ]
  },
  {
   "cell_type": "code",
   "execution_count": null,
   "metadata": {},
   "outputs": [],
   "source": [
    "# generate training data\n",
    "#data_train = generate_fractals(100000000, 10)\n",
    "data_train = np.load('kaggle_data/data_train_large.npy')"
   ]
  },
  {
   "cell_type": "code",
   "execution_count": 3,
   "metadata": {},
   "outputs": [],
   "source": [
    "data_test_10 = generate_fractals(100000, 10)"
   ]
  },
  {
   "cell_type": "code",
   "execution_count": null,
   "metadata": {},
   "outputs": [],
   "source": [
    "# np.save('kaggle_data/data_train_large', data_train)"
   ]
  },
  {
   "cell_type": "code",
   "execution_count": null,
   "metadata": {},
   "outputs": [],
   "source": [
    "mask = np.random.choice(len(data_train), size=10000000, replace=False)\n",
    "\n",
    "X_train = data_train[mask, :2]\n",
    "Y_train = data_train[mask, 2]"
   ]
  },
  {
   "cell_type": "code",
   "execution_count": 4,
   "metadata": {},
   "outputs": [],
   "source": [
    "X_vali = data_test_10[:, :2]\n",
    "Y_vali = data_test_10[:, 2]"
   ]
  },
  {
   "cell_type": "code",
   "execution_count": null,
   "metadata": {},
   "outputs": [],
   "source": [
    "# # Feedfoward with 5 layers, 100 nodes, max_norm kernal_constraint\n",
    "# input_dim = 2\n",
    "# model = Sequential()\n",
    "# model.add(Dense(32, input_dim=input_dim, activation='relu'))\n",
    "# model.add(Dense(32, activation='relu'))\n",
    "# model.add(Dense(32, activation='relu'))\n",
    "# model.add(Dense(32, activation='relu'))\n",
    "# model.add(Dense(32, activation='relu'))\n",
    "# model.add(Dense(32, activation='relu'))\n",
    "# model.add(Dense(32, activation='relu'))\n",
    "# model.add(Dense(32, activation='relu'))\n",
    "# model.add(Dense(32, activation='relu'))\n",
    "# model.add(Dense(32, activation='relu'))\n",
    "\n",
    "# # model.add(Dropout(0.2))\n",
    "\n",
    "# model.add(Dense(1, activation='sigmoid')) \n",
    "# model.compile(optimizer=Adam(lr=0.001), loss='binary_crossentropy', metrics=['accuracy'])\n",
    "\n",
    "# t0 = time.time()\n",
    "# model_fit = model.fit(X_train, Y_train, batch_size=1000, epochs=200, verbose=1, \n",
    "#                                       validation_data=(X_vali, Y_vali))\n",
    "# t1 = time.time()\n",
    "# print('fitting time: {} s'.format(t1 - t0))"
   ]
  },
  {
   "cell_type": "code",
   "execution_count": null,
   "metadata": {},
   "outputs": [],
   "source": [
    "# score = model.evaluate(X_vali, Y_vali, verbose=0)\n",
    "# print('validation loss: {}'.format(score[0]))\n",
    "# print('validation accuracy: {}'.format(score[1]))\n",
    "\n",
    "# model.save('kaggle_data/models/my_model_seq.h5')\n",
    "\n",
    "# fig, axes = plt.subplots(1, 2, figsize=(12, 5))\n",
    "# plot_decision_boundary(X_vali, Y_vali, model, \n",
    "#                        \"Decision Boundary \\nNN - Kaggle\", \n",
    "#                        axes[0])\n",
    "\n",
    "# plot_learning_curve(model_fit, axes[1])\n",
    "# axes[1].set_title(\"Learning Curve \\nNN - Kaggle\")\n",
    "# plt.show()"
   ]
  },
  {
   "cell_type": "code",
   "execution_count": null,
   "metadata": {},
   "outputs": [],
   "source": [
    "# fig, ax = plt.subplots(1, 1, figsize=(6, 5))\n",
    "# plot_data(X_train, Y_train, ax, 'Training Data: {}'.format(len(X_train)))"
   ]
  },
  {
   "cell_type": "code",
   "execution_count": 7,
   "metadata": {},
   "outputs": [],
   "source": [
    "model_seq = load_model('kaggle_data/models/my_model_seq_large.h5')\n",
    "#model_large = load_model('kaggle_data/models/my_model_n10000000e100.h5')\n",
    "#model_region = load_model('kaggle_data/models/my_model_seq_region.h5')"
   ]
  },
  {
   "cell_type": "code",
   "execution_count": 8,
   "metadata": {},
   "outputs": [
    {
     "name": "stdout",
     "output_type": "stream",
     "text": [
      "loss: 0.27156019155979155\n",
      "accuracy: 0.89841\n"
     ]
    }
   ],
   "source": [
    "score = model_seq.evaluate(X_vali, Y_vali, verbose=0)\n",
    "print('loss: {}'.format(score[0]))\n",
    "print('accuracy: {}'.format(score[1]))"
   ]
  },
  {
   "cell_type": "code",
   "execution_count": null,
   "metadata": {},
   "outputs": [],
   "source": [
    "# score = model_large.evaluate(X_vali, Y_vali, verbose=0)\n",
    "# print('loss: {}'.format(score[0]))\n",
    "# print('accuracy: {}'.format(score[1]))"
   ]
  },
  {
   "cell_type": "code",
   "execution_count": null,
   "metadata": {},
   "outputs": [],
   "source": [
    "# score = model_region.evaluate(X_vali, Y_vali, verbose=0)\n",
    "# print('loss: {}'.format(score[0]))\n",
    "# print('accuracy: {}'.format(score[1]))"
   ]
  },
  {
   "cell_type": "code",
   "execution_count": null,
   "metadata": {},
   "outputs": [],
   "source": [
    "# train_score = model.evaluate(X_train, Y_train, verbose=0)\n",
    "# print('Train loss: {}'.format(train_score[0]))\n",
    "# print('Train accuracy: {}'.format(train_score[1]))\n",
    "\n",
    "# vali_score = model.evaluate(X_vali, Y_vali, verbose=0)\n",
    "# print('Validation loss: {}'.format(vali_score[0]))\n",
    "# print('Validation accuracy: {}'.format(vali_score[1]))"
   ]
  },
  {
   "cell_type": "code",
   "execution_count": null,
   "metadata": {},
   "outputs": [],
   "source": [
    "model_fit = model_seq.fit(X_train, Y_train, batch_size=1000, epochs=100, verbose=1,\n",
    "                     validation_data=(X_vali, Y_vali))"
   ]
  },
  {
   "cell_type": "code",
   "execution_count": null,
   "metadata": {},
   "outputs": [],
   "source": [
    "model_seq.save('kaggle_data/models/my_model_seq_large.h5')"
   ]
  },
  {
   "cell_type": "code",
   "execution_count": null,
   "metadata": {},
   "outputs": [],
   "source": [
    "X_test = pd.read_table('kaggle_data/test_predictors.txt', sep=',', header=None)\n",
    "X_test.head()"
   ]
  },
  {
   "cell_type": "code",
   "execution_count": null,
   "metadata": {},
   "outputs": [],
   "source": [
    "Y_pred_test = model_seq.predict_classes(X_test)\n",
    "\n",
    "test_prediction = pd.DataFrame()\n",
    "test_prediction['index'] = np.arange(len(Y_pred_test)).astype(int) + 1\n",
    "test_prediction['label'] = Y_pred_test.astype(int)\n",
    "test_prediction.head()"
   ]
  },
  {
   "cell_type": "code",
   "execution_count": null,
   "metadata": {},
   "outputs": [],
   "source": [
    "test_prediction.to_csv('kaggle_data/predictions_seq_6-20.txt', index=False)"
   ]
  },
  {
   "cell_type": "code",
   "execution_count": null,
   "metadata": {},
   "outputs": [],
   "source": []
  }
 ],
 "metadata": {
  "kernelspec": {
   "display_name": "Python 3",
   "language": "python",
   "name": "python3"
  },
  "language_info": {
   "codemirror_mode": {
    "name": "ipython",
    "version": 3
   },
   "file_extension": ".py",
   "mimetype": "text/x-python",
   "name": "python",
   "nbconvert_exporter": "python",
   "pygments_lexer": "ipython3",
   "version": "3.6.4"
  }
 },
 "nbformat": 4,
 "nbformat_minor": 2
}
