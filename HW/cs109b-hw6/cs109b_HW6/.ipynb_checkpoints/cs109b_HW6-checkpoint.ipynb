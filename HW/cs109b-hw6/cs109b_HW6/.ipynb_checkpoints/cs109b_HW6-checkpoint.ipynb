{
 "cells": [
  {
   "cell_type": "markdown",
   "metadata": {},
   "source": [
    "## CS 109B/STAT 121B/AC 209B/CSCI E-109B: Homework 6\n",
    "### Neural Networks - CNNs and RNNs\n",
    "** Harvard University ** <br>\n",
    "** Spring  2018 ** <br>\n",
    "** Instructors:** Pavlos Protopapas and Mark Glickman \n",
    "\n",
    "---\n",
    "\n",
    "### INSTRUCTIONS\n",
    "\n",
    "- To submit your assignment follow the instructions given in canvas.\n",
    "- Restart the kernel and run the whole notebook again before you submit. \n",
    "- Do not include your name(s) in the notebook if you are submitting as a group. \n",
    "- If you submit individually and you have worked with someone, please include the name of your [one] partner below. \n",
    "\n",
    "---"
   ]
  },
  {
   "cell_type": "markdown",
   "metadata": {},
   "source": [
    "** Your partner's name (if you submit separately): **\n",
    "\n",
    "** Enrollment Status (109B, 121B, 209B, or E109B): **"
   ]
  },
  {
   "cell_type": "markdown",
   "metadata": {},
   "source": [
    "## Problem 1: Convolutional Neural Network Basics  (10 pts)\n",
    "\n",
    "In convolutional neural networks, a convolution is a multiplicative operation on a local region of values. Convolutional layers have been very useful in image classification, as it allows the network to retain local spatial information for feature extraction."
   ]
  },
  {
   "cell_type": "markdown",
   "metadata": {},
   "source": [
    "### Part A: Understanding Convolutional Operations"
   ]
  },
  {
   "cell_type": "markdown",
   "metadata": {},
   "source": [
    "For the following 2D matrix:\n",
    "\n",
    "| | | |\n",
    "|--|--|--|\n",
    "|1|2|2|\n",
    "|3|1|2|\n",
    "|4|1|0|\n",
    "\n",
    "Use the following 2x2 kernel to perform a 2D convolution on the matrix:\n",
    "\n",
    "| | |\n",
    "|--|--|\n",
    "|2|1|\n",
    "|1|2|\n",
    "\n",
    "**1. Compute this operation by hand assuming a) valid, b) same, and c) full border modes. Please indicate what the resulting matrix shape is compared to the original shape. **"
   ]
  },
  {
   "cell_type": "markdown",
   "metadata": {},
   "source": [
    "### Part B: Understanding Pooling Operations\n",
    "\n",
    "Pooling operations are used in convolutional neural networks to reduce the dimensionality of the feature maps and overall network complexity. Two main types of pooling are used in CNNs: AveragePooling and MaxPooling.\n",
    "\n",
    "** 1. Using the matrix below, write the output of the AveragePooling and MaxPooling operations with a pool size of 2x2 and stride 2x2. Then, write the outputs for the same operations, except with a stride size of 1.**\n",
    "\n",
    "\n",
    "| | | | |\n",
    "|--|--|--|--|\n",
    "|1|2|2|4|\n",
    "|3|1|2|1|\n",
    "|4|1|0|2|\n",
    "|5|2|2|1|"
   ]
  },
  {
   "cell_type": "markdown",
   "metadata": {},
   "source": [
    "### Part C: Puppy Example "
   ]
  },
  {
   "cell_type": "markdown",
   "metadata": {},
   "source": [
    "Consider the following image of a dog, which you will find in `dog.jpg`:\n",
    "\n",
    "![dog](dog.jpg)\n",
    "\n",
    "Load the image as a 2D Numpy array. Normalize the image by the following operation so that values fall within [-0.5, 0.5].\n",
    "\n",
    "**Perform the following steps for four images:**\n",
    "\n",
    "**1. Randomly generate a 3x3 kernel.**\n",
    "\n",
    "**2. Use this kernel and convolve over the image with same border mode (with [scipy.signal.convolve2d](https://docs.scipy.org/doc/scipy/reference/generated/scipy.signal.convolve2d.html)).**\n",
    "\n",
    "**3. In the resulting image, set all pixel values less than zero to zero (using np.clip()). In other words:**\n",
    "\n",
    "\n",
    "`\n",
    "if x < 0:\n",
    "    x = 0\n",
    "else:\n",
    "    x = x\n",
    "`\n",
    "\n",
    "(This is the `ReLU` activation function.)\n",
    "\n",
    "**4. Plot the image.**\n",
    "\n",
    "Take a moment to examine the convolved images. You should see that certain features in the puppy are accentuated, while others are de-emphasized. Now consider the effect of performing additional convolution operations on these filtered images and how to they relate to additional layers in a neural network."
   ]
  },
  {
   "cell_type": "markdown",
   "metadata": {},
   "source": [
    "## Problem 2: Running a Convolutional Neural Network (20 pts) \n",
    "\n",
    "### Part A: Building the Model\n",
    "\n",
    "In this first part, you will create a convolutional neural network using Keras to predict the type of object in an image. Load the [CIFAR-10](https://keras.io/datasets/#cifar10-small-image-classification) dataset, which contains 50,000 32x32 training images and 10,000 test images of the same size, with a total of 10 sizes.\n",
    "\n",
    "Use a combination of the [following layers](https://keras.io/layers/convolutional/): Conv2D, MaxPooling2D, Dense, Dropout and Flatten Layers (not necessarily in this order).\n",
    "You may use an existing architecture like AlexNet or VGG16, or create one of your own design. However, you should write your own layers and not use a pre-written implementation.\n",
    "\n",
    "Convolutional neural networks are very computationally intensive. We highly recommend that you train your model on JupyterHub using GPUs. On CPUs, this training can take up to several hours. On GPUs, it can be done within minutes.\n",
    "\n",
    "** 1. Report the total number of parameters.**\n",
    "\n",
    "** 2. How does the number of total parameters change (linearly, exponentially) as the number of filters per layer increases?**\n",
    "\n",
    "** 3. Generate a plot showing this relationship and explain why.**\n",
    "\n",
    "For instance, start by assigning 32 filters to each Conv2D layer, then 64, 128, etc. and recording the total number of parameters for each model.\n",
    "\n",
    "\n",
    "\n"
   ]
  },
  {
   "cell_type": "markdown",
   "metadata": {},
   "source": [
    "## Part B: Training and Evaluating the Model\n",
    "** Now train your model. You can choose to train your model for as long as you'd like, but you should aim for at least 10 epochs. ** Your validation accuracy should exceed 70%. Training for 10 epochs on a CPU should take about 30-60 minutes."
   ]
  },
  {
   "cell_type": "markdown",
   "metadata": {},
   "source": [
    "## Part C: Visualizing the Feature Maps\n",
    "\n",
    "We would also like to examine the feature maps that are produced by the intermediate layers of the network.\n",
    "\n",
    "**Using your model, extract 9 feature maps from an intermediate convolutional layer of your choice and plot the images in a 3x3 grid. Also plot your original input image (choose an image of your choice).**\n",
    "\n",
    "You may use the helper function `get_feature_maps()` to extract weights."
   ]
  },
  {
   "cell_type": "code",
   "execution_count": 10,
   "metadata": {
    "collapsed": true
   },
   "outputs": [],
   "source": [
    "import matplotlib.pyplot as plt\n",
    "%matplotlib inline\n",
    "\n",
    "def get_feature_maps(model, layer_id, input_image):\n",
    "    model_ = Model(inputs=[model.input], outputs=[model.layers[layer_id].output])\n",
    "    return model_.predict(np.expand_dims(input_image, axis=0))[0,:,:,:].transpose((2,0,1))"
   ]
  },
  {
   "cell_type": "markdown",
   "metadata": {},
   "source": [
    "# Problem 3: Recurrent Neural Networks (20 pts)\n"
   ]
  },
  {
   "cell_type": "markdown",
   "metadata": {},
   "source": [
    "## Learning to add numbers with a recurrent neural network"
   ]
  },
  {
   "cell_type": "markdown",
   "metadata": {},
   "source": [
    "In this exercise, we will be using using recurrent neural network to add three digit numbers, encoded as character strings. \n",
    "\n",
    "For example, given a string '223+12', we would like to return '235', without teaching the model explicit addition rules.\n",
    "\n",
    "You are given the class __CharacterTable__ to assist with encoding and decoding,  which is initialized below:"
   ]
  },
  {
   "cell_type": "code",
   "execution_count": 14,
   "metadata": {
    "collapsed": true
   },
   "outputs": [],
   "source": [
    "from HW6_functions import *\n",
    "chars = '0123456789+ '\n",
    "ctable = CharacterTable(chars)"
   ]
  },
  {
   "cell_type": "markdown",
   "metadata": {},
   "source": [
    "__CharacterTable__ contains functions _encode_ and _decode_.\n",
    "\n",
    "_encode_ takes in a string and the number of rows needed in the one hot encoding.\n",
    "\n",
    "_decode_ returns the string corresponding to the encoded one hot encoding.\n",
    "\n",
    "An example of usage below:"
   ]
  },
  {
   "cell_type": "code",
   "execution_count": 15,
   "metadata": {
    "scrolled": true
   },
   "outputs": [
    {
     "name": "stdout",
     "output_type": "stream",
     "text": [
      "Encoded Format: \n",
      " [[0. 0. 0. 1. 0. 0. 0. 0. 0. 0. 0. 0.]\n",
      " [0. 0. 0. 0. 1. 0. 0. 0. 0. 0. 0. 0.]\n",
      " [0. 0. 0. 0. 0. 1. 0. 0. 0. 0. 0. 0.]]\n",
      "Decoded Format: 123\n"
     ]
    }
   ],
   "source": [
    "encoded_123 = ctable.encode('123', 3)\n",
    "print(\"Encoded Format: \\n {}\".format(encoded_123))\n",
    "decoded_123 = ctable.decode(encoded_123)\n",
    "print(\"Decoded Format: {}\".format(decoded_123))"
   ]
  },
  {
   "cell_type": "markdown",
   "metadata": {},
   "source": [
    "## Generating Training Data"
   ]
  },
  {
   "cell_type": "markdown",
   "metadata": {},
   "source": [
    "Your first task is to create the data to train on. Luckily, we have virtually unlimited training data because addition is trivial for Python.\n",
    "\n",
    "You will populate two arrays, _problems_ and _answers_, which contain your predictors and target variables.\n",
    "\n",
    "Examples from _problems_:"
   ]
  },
  {
   "cell_type": "code",
   "execution_count": 16,
   "metadata": {},
   "outputs": [
    {
     "data": {
      "text/plain": [
       "'520+880'"
      ]
     },
     "execution_count": 16,
     "metadata": {},
     "output_type": "execute_result"
    }
   ],
   "source": [
    "'    1+7'\n",
    "\n",
    "'  12+10'\n",
    "\n",
    "'520+880'"
   ]
  },
  {
   "cell_type": "markdown",
   "metadata": {},
   "source": [
    "Examples from _answers_:"
   ]
  },
  {
   "cell_type": "code",
   "execution_count": 17,
   "metadata": {},
   "outputs": [
    {
     "data": {
      "text/plain": [
       "'1400'"
      ]
     },
     "execution_count": 17,
     "metadata": {},
     "output_type": "execute_result"
    }
   ],
   "source": [
    "'8   '\n",
    "\n",
    "'22  '\n",
    "\n",
    "'1400'"
   ]
  },
  {
   "cell_type": "markdown",
   "metadata": {},
   "source": [
    "Notice that spaces are inserted to the left and right of strings within _problems_ and _answers_ to keep the dimensions of the input and output the same. When adding three digit numbers, the maximum possible length of a string in _problems_ is 7, while the maximum possible length of a string in _answers_ is 4.\n"
   ]
  },
  {
   "cell_type": "code",
   "execution_count": 18,
   "metadata": {
    "collapsed": true
   },
   "outputs": [],
   "source": [
    "TRAINING_SIZE = 50000\n",
    "DIGITS = 3\n",
    "MAXLEN = DIGITS + 1 + DIGITS"
   ]
  },
  {
   "cell_type": "code",
   "execution_count": 1,
   "metadata": {
    "collapsed": true
   },
   "outputs": [],
   "source": [
    "problems = []\n",
    "answers = []"
   ]
  },
  {
   "cell_type": "markdown",
   "metadata": {},
   "source": [
    "** 1. Populate the two matrices _X_ and _y_, which contain the encoded version of problems and answers. **\n",
    "The _i_ th row in both matrices should contain one encoded problem and answer, respectively. \n",
    "\n",
    "** 2. Next, shuffle your data and split it into training and validation sets. **\n",
    "These matrices should be named x_train, y_train, x_val, and y_val."
   ]
  },
  {
   "cell_type": "markdown",
   "metadata": {},
   "source": [
    "## Building the Model\n",
    "\n",
    "** 1. Using Keras, create a recurrent model that takes in _X_ and returns _y_. **\n",
    "You are free to choose LSTM, or just a vanilla RNN to implement your model. Your model should take in NUM_LAYERS as a parameter.\n",
    "\n",
    "** 2. Create and train models with 1, 2, and 3 layers over 50 epochs. Plot test accuracy as a function of epoch for each model. **\n",
    "Note: You do not have to print the progress bars for each model in your final report, you only have to include the accuracy plots.\n",
    "\n",
    "** 3. Which model has the highest test accuracy? By looking at the accuracy over epochs, what can you say about how depth affects training and performance for recurrent models? **"
   ]
  },
  {
   "cell_type": "code",
   "execution_count": null,
   "metadata": {
    "collapsed": true
   },
   "outputs": [],
   "source": [
    "BATCH_SIZE = \n",
    "LAYERS = \n",
    "\n",
    "model = Sequential()\n",
    "\n",
    "#Create model here"
   ]
  },
  {
   "cell_type": "code",
   "execution_count": null,
   "metadata": {
    "collapsed": true
   },
   "outputs": [],
   "source": [
    "nb_epochs = 50\n",
    "for iteration in range(1, nb_epochs):\n",
    "    print()\n",
    "    print('-' * 50)\n",
    "    print('Iteration', iteration)\n",
    "    results = model.fit(x_train, y_train,\n",
    "              batch_size=BATCH_SIZE,\n",
    "              epochs=1,\n",
    "              validation_data=(x_val, y_val))\n",
    "    # Select 10 samples from the validation set at random so we can visualize\n",
    "    # errors.\n",
    "    print_results(x_val, y_val, model)\n",
    "    \n",
    "    #To get validation accuracy per epoch, store results.history['val_acc'] in an array."
   ]
  }
 ],
 "metadata": {
  "celltoolbar": "Raw Cell Format",
  "kernelspec": {
   "display_name": "Python 3",
   "language": "python",
   "name": "python3"
  },
  "language_info": {
   "codemirror_mode": {
    "name": "ipython",
    "version": 3
   },
   "file_extension": ".py",
   "mimetype": "text/x-python",
   "name": "python",
   "nbconvert_exporter": "python",
   "pygments_lexer": "ipython3",
   "version": "3.6.4"
  }
 },
 "nbformat": 4,
 "nbformat_minor": 1
}
